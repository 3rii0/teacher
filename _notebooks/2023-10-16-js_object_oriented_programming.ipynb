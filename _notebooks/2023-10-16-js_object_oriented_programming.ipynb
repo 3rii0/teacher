{
 "cells": [
  {
   "cell_type": "markdown",
   "metadata": {},
   "source": [
    "---\n",
    "toc: false\n",
    "layout: post\n",
    "title: Javascript Object Oriented Programming\n",
    "description: Tech talk going over object oriented progamming in javascript\n",
    "type: ccc\n",
    "courses: { csse: {week: 9} }\n",
    "unit: 3\n",
    "---"
   ]
  },
  {
   "cell_type": "markdown",
   "metadata": {},
   "source": [
    "# Javascript class\n",
    "- A class can be thought of as anything that you would consider an object in real life\n",
    "    - Computer\n",
    "    - Cat\n",
    "    - Person\n",
    "- Just like any of those objects a class will have attributes and actions that it can perform \n",
    "- This can be thought of as a \"Has-a\" relationship\n",
    "    - Cat\n",
    "        - Has a Tail\n",
    "        - Has fur\n",
    "        - Has the ability to walk"
   ]
  },
  {
   "cell_type": "markdown",
   "metadata": {},
   "source": [
    "# Purpose of object oriented programming\n",
    "- Classes are the building blocks of object oriented programming\n",
    "- Classes can be used to help organize your code\n",
    "    - Instead of looking through a 1000 line file of code to figure out what needs to be changed to make your dog walk to the left rather than to the right, you can just look in your 50 line class for dog and know exactly what needs to be changed\n",
    "- Having organization in your code will make it so anyone can easily start working on your project with you\n",
    "- Classes make it so you can reuse your code\n",
    "    - Instead of coding 20 cats from scracth to add to your cat daycare app you can define a cat class and add 20 cats quickly"
   ]
  },
  {
   "cell_type": "markdown",
   "metadata": {},
   "source": [
    "# Making a class\n",
    "- A class in javascript is composed of three parts\n",
    "    - A Constructor\n",
    "        - Defines what will be passed to this class and what this class will do when it has been created\n",
    "    - Attributes\n",
    "        - Variables associated with the class that may be used inside or outside of the class\n",
    "    - Functions\n",
    "        - Functions that can be called from inside or outside the class to make the object do something\n",
    "- Below is an example of the cat class from earlier"
   ]
  },
  {
   "cell_type": "code",
   "execution_count": null,
   "metadata": {
    "vscode": {
     "languageId": "plaintext"
    }
   },
   "outputs": [],
   "source": [
    "%%js\n",
    "\n",
    "class Cat{\n",
    "    constructor(furColor, weight, breed){\n",
    "        // 'this' here is used to say that this attribute belongs to this class\n",
    "        this.furColor = furColor;\n",
    "        this.weight = weight;\n",
    "        this.breed = breed;\n",
    "    }\n",
    "\n",
    "    walk(){\n",
    "        // Code to walk goes here\n",
    "    }\n",
    "}\n",
    "\n",
    "// define the variables we will pass into our cat class\n",
    "var furColor = \"Black\";\n",
    "var weight = 9;\n",
    "var breed = \"Bombay\"\n",
    "\n",
    "// to make a new cat you need to call new and pass \n",
    "// all of the variables that the cat constructor is expecting\n",
    "var cat = new Cat(furColor, weight, breed);\n",
    "\n",
    "// call a class function\n",
    "cat.walk();"
   ]
  },
  {
   "cell_type": "code",
   "execution_count": null,
   "metadata": {
    "vscode": {
     "languageId": "plaintext"
    }
   },
   "outputs": [],
   "source": [
    "%%js\n",
    "// Make a small class that could relate to your passion project here"
   ]
  },
  {
   "cell_type": "markdown",
   "metadata": {},
   "source": [
    "# Extending a class\n",
    "- Classes can extend other classes to generalize a group of similar classes\n",
    "    - A laptop class and desktop class might extend a computer class\n",
    "- These type of classes are known as parent and child classes or can be thought of as having an \"is-a\" relationship\n",
    "    - A laptop is a computer\n",
    "    - The computer is the parent class and the laptop is the child class\n",
    "- Variables and functions defined in the parent class can be called with the child class"
   ]
  },
  {
   "cell_type": "code",
   "execution_count": null,
   "metadata": {
    "vscode": {
     "languageId": "plaintext"
    }
   },
   "outputs": [],
   "source": [
    "%%js\n",
    "\n",
    "class pet{\n",
    "    constructor(name, weight, breed){\n",
    "        this.name = name;\n",
    "        this.weight = wight;\n",
    "        this.breed = breed;\n",
    "    }\n",
    "\n",
    "    walk(){\n",
    "        // Code to walk goes here\n",
    "    }\n",
    "}\n",
    "\n",
    "\n",
    "// use the extends keyword to say what the parent class of this class is\n",
    "class Cat extends pet{\n",
    "    constructor(name, weight, breed){\n",
    "        // use super to call the parent constructor here\n",
    "        super(name, weight, breed);\n",
    "    }\n",
    "\n",
    "    meow(){\n",
    "        // Code to meow goes here\n",
    "    }    \n",
    "}\n",
    "\n",
    "class Dog extends pet{\n",
    "    constructor(name, weight, breed){\n",
    "        super(name, weight, breed);\n",
    "    }\n",
    "\n",
    "    bark(){\n",
    "        // Code to bark goes here\n",
    "    }\n",
    "}\n",
    "\n",
    "// define the variables we will pass into our cat class\n",
    "var catName = \"Ziggy\";\n",
    "var catWeight = 9;\n",
    "var catBreed = \"Bombay\"\n",
    "\n",
    "// to make a new cat you need to call new and pass \n",
    "// all of the variables that the cat constructor is expecting\n",
    "var cat = new Cat(furColor, weight, breed);\n",
    "\n",
    "// call parent class function from child class\n",
    "cat.walk();\n",
    "// call child class function\n",
    "cat.meow();"
   ]
  },
  {
   "cell_type": "code",
   "execution_count": null,
   "metadata": {
    "vscode": {
     "languageId": "plaintext"
    }
   },
   "outputs": [],
   "source": [
    "%js\n",
    "// Make a parent class and a child class related to your passion project"
   ]
  },
  {
   "cell_type": "markdown",
   "metadata": {},
   "source": [
    "# Draw.io\n",
    "- Draw.io is a tool that you can use right in vscode as an extension\n",
    "- This tool can help you visualize the classes you have in your program and how they relate to eachother\n",
    "![draw_io_example]({{site.baseurl}}/images/draw_io_example.png)\n",
    "- Here you can see in this project we made a parent class Character and two child classes Dog and Monkey\n",
    "- You can add all of the attributes and functions associated with each class as well making it much easier to see the structure of the program at a glance"
   ]
  },
  {
   "cell_type": "markdown",
   "metadata": {},
   "source": [
    "# Hacks\n",
    "- Take some of the separated features of your passion project that you have and make classes out of them\n",
    "- See if any of the features have a structure that would benifit from making a parent class and child classes\n",
    "- Make a Draw.io diagram of the program"
   ]
  }
 ],
 "metadata": {
  "language_info": {
   "name": "python"
  }
 },
 "nbformat": 4,
 "nbformat_minor": 2
}
