{
 "cells": [
  {
   "attachments": {},
   "cell_type": "markdown",
   "metadata": {},
   "source": [
    "---\n",
    "layout: post\n",
    "title: Github Pages build, test, debug\n",
    "description: Learn the Development work flow for Posts and Notebooks.\n",
    "toc: true\n",
    "comments: true\n",
    "categories: [C5.0]\n",
    "courses: { csse: {week: 2}, csp: {week: 0, categories: [4.B, 5.B]}, csa: {week: 0} }\n",
    "type: devops\n",
    "---"
   ]
  },
  {
   "attachments": {},
   "cell_type": "markdown",
   "metadata": {},
   "source": [
    "## Overview of README.md\n",
    "> Discuss how to run local server and how to push files and review actions.\n",
    "- Use materials in README.md for lesson"
   ]
  },
  {
   "attachments": {},
   "cell_type": "markdown",
   "metadata": {},
   "source": [
    "## Discuss directories in Project\n",
    "> Share insights on key files and directories.\n",
    "- index.md, README.md\n",
    "- _notebooks, _posts, images \n",
    "- _config.yml"
   ]
  },
  {
   "attachments": {},
   "cell_type": "markdown",
   "metadata": {},
   "source": [
    "## Changing the Theme\n",
    "> Look at GitHub repositories and theme options.\n",
    "- review _config.yml and see if there are alternatives that behave correctly.  If someone want to research this more for a student repository it would be a great hack."
   ]
  }
 ],
 "metadata": {
  "language_info": {
   "name": "python"
  },
  "orig_nbformat": 4
 },
 "nbformat": 4,
 "nbformat_minor": 2
}
