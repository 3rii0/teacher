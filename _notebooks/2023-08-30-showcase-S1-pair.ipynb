{
 "cells": [
  {
   "cell_type": "markdown",
   "metadata": {},
   "source": [
    "---\n",
    "title: Pair Showcase Sprint 1\n",
    "comments: true\n",
    "layout: default\n",
    "description: This is time to show accomplishments to teacher in a live review meeting.\n",
    "categories: []\n",
    "courses: { csse: {week: 3}, csp: {week: 3}, csa: {week: 3} }\n",
    "type: collab\n",
    "---"
   ]
  },
  {
   "cell_type": "markdown",
   "metadata": {},
   "source": [
    "## Preparation Time\n",
    "Work is performed daily.  A checkout for a sprint is where you and in this case your pair have progressed in the time provided.  Everything is iterative, so there is no such thing as extended time or early delivery in a sprint.   "
   ]
  },
  {
   "cell_type": "markdown",
   "metadata": {},
   "source": [
    "## Showcase Requirements\n",
    "This is a culmination of all activities in a sprint.  During the sprint there is alway time to preview or communcation progress with the teacher; if you have previously shared then highlighting for teacher memory is important, but it is not necessary to elaborate on things previously shared.\n",
    "\n",
    "- Pair event.   This sprint is focused on Pair Programming, not Team.   In a class, live reviews will be done in pairs or trios (rare, 3 or less per class) for this event.\n",
    "- Sprint outline.  Consider the sprint outline to contain many of the elenents expected in the showcase.\n",
    "- Couse outline for Sprint 1.  Blogs and hacks contain the majority of the elements that should be incorporated into the materials you present in the Showcase.\n",
    "- Pair work can be shared, but both people should be able to talk about it.  If you did not carry your load in the pair, be honest.  Attempts to get credit by coat tailing is frowned upon.\n",
    "- Google Docs, Sheets, Presentations are frowned upon.  It is expected that you will be showing materials from your Student blog.  Teacher believes using a blog is helping with your ability to design organize and code."
   ]
  }
 ],
 "metadata": {
  "language_info": {
   "name": "python"
  },
  "orig_nbformat": 4
 },
 "nbformat": 4,
 "nbformat_minor": 2
}
