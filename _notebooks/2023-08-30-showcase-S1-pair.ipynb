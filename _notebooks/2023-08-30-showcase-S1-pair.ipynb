{
 "cells": [
  {
   "cell_type": "markdown",
   "metadata": {},
   "source": [
    "---\n",
    "title: Pair Showcase\n",
    "comments: true\n",
    "layout: default\n",
    "description: The last week of Sprint 1 is time to show accomplishments to teacher in a live review meeting.\n",
    "categories: []\n",
    "courses: { csse: {week: 3}, csp: {week: 3}, csa: {week: 3} }\n",
    "type: collab\n",
    "---"
   ]
  },
  {
   "cell_type": "markdown",
   "metadata": {},
   "source": [
    "## Preparation Time\n",
    "Work is performed daily.  A checkout for a sprint is where you and in this case your pair have progressed work in the time provided.  Everything is iterative, so there is no such thing as extended time in a sprint.   \n",
    "\n",
    "This will be a Live Review!   Students share accomplishments from the Spring with the Teacher."
   ]
  },
  {
   "cell_type": "markdown",
   "metadata": {},
   "source": [
    "## Showcase Requirements\n",
    "This is a culmination of all activities in a sprint.  During the Sprint there is always time to preview or communcate progress with the teacher; if you have  shared progress during the sprint, be sure to highlight success to jog Teachers memory.  Never, never expect the Teacher to remember something you did.  The showcase is time for you to shine and impress.\n",
    "\n",
    "- Format of Showcase.   This is a pair event.  This Sprint is focused on Pair Programming, not Team.   In a class, live reviews for this Showcase will be done in pairs or trios (rare, 3 or less per class) for this event.\n",
    "    - Make sure work is polished and reviewed.  Part of working with a pair is preparation, review, and testing prior to present to Teacher.  In the Tech world, quality presentation of Tech are as important as the Tech itself.\n",
    "    - Google or Microsoft Docs, Sheets, Presentations are frowned upon and will result in significant deduction.  It is expected that you will be <b>showing materials from your personal Student blog</b>.  The Teacher believes using a blog is helping with your ability to design, organize, and code.\n",
    "    - Pair work can be shared, but both people should be able to talk about anything they expect to be counted toward their personal credit.  If you did not participate or carry your load on a topic, be honest, don't fake accomplishments.  Attempts to get credit by coat tailing is frowned upon.  \n",
    "- Preparation and Time.  The Showcase requires preparation.  At this event, it would be a mistake to ask \"what do you want to see\".  There are many sources that have been provided to answer that question.\n",
    "    - Sprint Illustration.  Consider the outline for the sprint a a guideline of key elements expected to be in the Showcase.\n",
    "    - Spring Blogs.   The hacks within the blogs contain the majority of the requirements that should be incorporated into the materials you present in the Showcase.\n"
   ]
  },
  {
   "cell_type": "markdown",
   "metadata": {},
   "source": [
    "## Ongoing Evaluations\n",
    "There are many ways to perform assesments in classroom.  Grade is not the only assessment that is on a report card.  A Student, on a daily basis, establishes work behaviors and capabilities with a Teacher,  An employee, on a daily basis, establishes work behaviors with peers and manager.  We will be establishing a Data Science profile 1/0 for each student as we progress in the class, this profile will be maintained by Teacher and will be used in evaluating grade.\n",
    "\n",
    "\n",
    "- Effort Categories\n",
    " \n",
    "    - Attendance:  Does the student have a computer every day, were they overly tardy, or did they have any irregularities in presence; like being gone for 1/2 hour bathroom breaks, missing intro sessions to class, ...\n",
    "\n",
    "    - Work Habits: Does the student have a class time work ethic or in Teacher perception appear productive; do they have collaboration meetings with pair and team? do they do their own work in class time?  do the follow a plan? ...\n",
    "\n",
    "    - Behavior:  Does the student require redirection from Teacher to be on task? Are they active and appropriately participating in Tech Talks?  Are they maintaining seed points? ...\n",
    "\n",
    "    - On Time Work:  Is the student ready to participate in live reviews?  Are they on track and showing progress that is consistent with time period and expectations?  Are they aware of assignments and due dates? ...\n",
    "\n",
    "\n",
    "- Technical Skills\n",
    "\n",
    "    - Clarity:  Does the student show the ability to explain what they have been working on?  Are the able to describe technical elements with correct vocabulary?  Are they confident and prepared?  ...\n",
    "\n",
    "    - Qualified, satisfies pre-requisites: Teacher assessment on if the Student was qualified to take class. For instance, some CSA students skip CSP and have had no previous background in CompSci.  Another case, is the student a \"good student\", someone that is prepared to work in class and do homework?  Is the student able to identify their personal learning style, ask question, seek out visuals,   ... \n",
    "\n",
    "    - Tech sense: Teacher assesment on the \"technical sense or sensibility\" when entering the class and throughout the year.  For instance, in the beginning is student able to navigate their own computer, locate files, install software?   Or as they progress through year are they able to use their tools, perform tool updates, keep things working, troubleshoot?  Are they able to navigate through technical elements and make things over time, like debugging? ...\n",
    "\n",
    "    - Tech rated: Teacher assesment on \"technical rating\" as student progresses in class or prepares to take the AP exam.  Did the student acquire technical abilities in each Sprint prior to AP exam?  Does the student learn the Tech, or do they simply try for the points? Is the student build on skills learned as foundations for the next task?   At AP exam time, does the Teacher believe that they would undoubtedly receive a \"3\" or higher?\n",
    "\n",
    "\n",
    "- Soft Skills\n",
    "\n",
    "    - Self advocation rating: Teacher assesment and perception on how the student self advocates.  Does the student seek out help when needed?  Does the student ask question on Slack, in person, of team members?  Does the student attend Tutorial?  Is the student aware and informed?\n",
    "\n",
    "    - Collab rating: Teacher assesment and perception on whether the student is a collaborator in classroom.  Do I see the student exhibiting collaboritive behaviors of success by working with others?   Do I see collaboration as a willing attribute in the student?\n",
    "\n",
    "    - Leadership: Teacher assesment or observation on leadership qualities of the student.   Did the Teacher ask the student to take on a leadership position in the classroom?  Did the student follow through with that responsibiility?  Would the Teacher ask the student to perform as task important to the classroom?\n",
    "\n",
    "    - Integrity:  Teacher assesment on how the student represents their own work. Without question, did the student do their own work on each assignment through the year?  Were they a suspect or caught in cheating scandal?  Were they a suspect in misrepresenting work as their own."
   ]
  }
 ],
 "metadata": {
  "language_info": {
   "name": "python"
  },
  "orig_nbformat": 4
 },
 "nbformat": 4,
 "nbformat_minor": 2
}
