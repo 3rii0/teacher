{
 "cells": [
  {
   "cell_type": "markdown",
   "metadata": {},
   "source": [
    "---\n",
    "title: Pair Showcase Sprint 1\n",
    "comments: true\n",
    "layout: default\n",
    "description: This is time to show accomplishments to teacher in a live review meeting.\n",
    "categories: []\n",
    "courses: { csse: {week: 3}, csp: {week: 3}, csa: {week: 3} }\n",
    "type: collab\n",
    "---"
   ]
  },
  {
   "cell_type": "markdown",
   "metadata": {},
   "source": [
    "## Preparation Time\n",
    "Work is performed daily.  A checkout for a sprint is where you and in this case your pair have progressed in the time provided.  Everything is iterative, so there is no such thing as extended time or early delivery in a sprint.   "
   ]
  },
  {
   "cell_type": "markdown",
   "metadata": {},
   "source": [
    "## Showcase Requirements\n",
    "This is a culmination of all activities in a sprint.  During the sprint there is always time to preview or communcate progress with the teacher; if you have  shared progress during the sprint, be sure to highlight success to jog Teachers memory.  A showcase is time for you to shine and impress.\n",
    "\n",
    "- Pair event.   This sprint is focused on Pair Programming, not Team.   In a class, live reviews will be done in pairs or trios (rare, 3 or less per class) for this event.\n",
    "- Sprint outline.  Consider the outline for the spring a a guideline of key elements expected to be in the Showcase.\n",
    "- Blogs and hacks in sprint contain the majority of the topics that should be incorporated into the materials you present in the Showcase.\n",
    "- Pair work can be shared, but both people should be able to talk about anything they expect to receive personal credit.  If you did not participate or carry your load on a topic, be honest.  Attempts to get credit by coat tailing is frowned upon.\n",
    "- Google or Microsoft Docs, Sheets, Presentations are frowned upon and will result in significant deduction.  It is expected that you will be <b>showing materials from your Student blog</b>.  The Teacher believes using a blog is helping with your ability to design, organize, and code."
   ]
  }
 ],
 "metadata": {
  "language_info": {
   "name": "python"
  },
  "orig_nbformat": 4
 },
 "nbformat": 4,
 "nbformat_minor": 2
}
