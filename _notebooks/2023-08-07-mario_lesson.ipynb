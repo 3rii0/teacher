{
 "cells": [
  {
   "cell_type": "markdown",
   "metadata": {},
   "source": [
    "---\n",
    "toc: false\n",
    "layout: post\n",
    "title: Mario Lesson\n",
    "description: mario lesson\n",
    "courses: { csse: {week: 8}, csp: {week: 8}, csa: {week: 8} }\n",
    "type: ccc\n",
    "author: Nicholas Ramos and Samaya Sankuratri\n",
    "---\n"
   ]
  },
  {
   "cell_type": "markdown",
   "metadata": {},
   "source": [
    "{% include mario_nav.html %}\n",
    "\n",
    "## [Link to final game](https://samayass.github.io/mario1/levels/mario5)"
   ]
  }
 ],
 "metadata": {
  "language_info": {
   "name": "python"
  },
  "orig_nbformat": 4
 },
 "nbformat": 4,
 "nbformat_minor": 2
}
