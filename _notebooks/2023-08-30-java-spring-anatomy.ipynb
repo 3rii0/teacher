{
 "cells": [
  {
   "attachments": {},
   "cell_type": "markdown",
   "metadata": {},
   "source": [
    "---\n",
    "# this is YAML front matter\n",
    "layout: post\n",
    "title: Anatomy of Java Spring \n",
    "description: A discussion of key elements in a Java Spring backend project.  This includes preparing a project for deployment.\n",
    "courses: { csa: {week: 3, categories: [3.A]} }\n",
    "categories: [C4.0]\n",
    "type: devops\n",
    "---"
   ]
  },
  {
   "attachments": {},
   "cell_type": "markdown",
   "metadata": {},
   "source": [
    "## Overview of a Spring Web Application\n",
    "This article overviews key considerations in setting up a Java Spring Backend project."
   ]
  },
  {
   "attachments": {},
   "cell_type": "markdown",
   "metadata": {},
   "source": [
    "## Overview of files for Spring / Maven / Thymeleaf\n",
    "> Prepare for this review by completing Tools Setup and README instruction to clone and buid.\n",
    "\n",
    "- `README.md`: This file contains instructions and information about the project. It is a standard component of all properly set up GitHub projects.\n",
    "\n",
    "- `pom.xml`: This file is the Maven Project Object Model (POM) file. It defines the project configuration, dependencies, build settings, and other metadata required for building and managing the Java project.\n",
    "\n",
    "- `src/main/java/`: This directory contains your Java source code files, including controllers, services, models, and other backend components of your Spring application.\n",
    "\n",
    "- `src/main/resources/static/`: This directory is the location for static web resources such as CSS, JavaScript, images, and other assets that will be served directly by the web server without any processing.\n",
    "\n",
    "- `src/main/resources/templates/`: This directory contains Thymeleaf template files. These are dynamic HTML templates that can be rendered on the server-side and populated with data from your Java code. Thymeleaf provides powerful templating features and allows you to create dynamic web pages with Java integration.\n",
    "\n",
    "- `application.properties` or `application.yml`: These files contain configuration properties for the Spring application. They can include settings related to the database connection, server port, logging, security, and other application-specific configurations.\n",
    "\n",
    "- `Main.java`: This Java file contains the main entry point of the Spring application. It is annotated with @SpringBootApplication and includes the main method to start the application.\n",
    "\n",
    "- `SecurityConfiguration.java`: This Java file is a Java class that typically plays a crucial role in configuring the security aspects of a web application using Spring Security framework. It is responsible for defining security rules, authentication mechanisms, authorization policies, and other security-related configurations.\n",
    "\n",
    "- `...ApiController.java`: These Java files define the web controllers responsible for handling incoming requests and generating appropriate responses. They typically use annotations like @RestController or @Controller to define the request mapping endpoints.\n",
    "\n",
    "- `...ServiceImpl.java`: These Java files contain the business logic of the application. They encapsulate complex operations and provide services to the controllers. Service classes are often annotated with @Service.\n",
    "\n",
    "- `...JpaRepository.java`: These Java files define the data access layer of the application. They interact with the database or other data sources to perform CRUD operations.\n",
    "\n",
    "Please note that this is a general overview, and the specific file and directory structure can vary as any project progresses or the framework change."
   ]
  },
  {
   "attachments": {},
   "cell_type": "markdown",
   "metadata": {},
   "source": [
    "\n",
    "### Dockerfile and docker-compose.yml\n",
    "> Make sure your docker files are created using the templates below."
   ]
  },
  {
   "cell_type": "code",
   "execution_count": null,
   "metadata": {
    "vscode": {
     "languageId": "shellscript"
    }
   },
   "outputs": [],
   "source": [
    "# Dockerfile\n",
    "FROM openjdk:18-alpine3.13\n",
    "WORKDIR /app\n",
    "RUN apk update && apk upgrade && \\\n",
    "    apk add --no-cache git \n",
    "COPY . /app\n",
    "RUN ./mvnw package\n",
    "CMD [\"java\", \"-jar\", \"target/spring-0.0.1-SNAPSHOT.jar\"]\n",
    "EXPOSE 8085"
   ]
  },
  {
   "cell_type": "code",
   "execution_count": null,
   "metadata": {
    "vscode": {
     "languageId": "shellscript"
    }
   },
   "outputs": [],
   "source": [
    "# docker-compose.yml\n",
    "version: '3'\n",
    "services:\n",
    "        web:\n",
    "                image: java_springv1 # Change the image name to something unique to your project, aka my_unique_name_v1\n",
    "                build: .\n",
    "                ports:\n",
    "                        - \"8---:8085\" # Edit the number on the left to match the port you selected \n",
    "                volumes:\n",
    "                        - ./volumes:/volumes\n",
    "                restart: unless-stopped"
   ]
  }
 ],
 "metadata": {
  "kernelspec": {
   "display_name": "Java",
   "language": "java",
   "name": "java"
  },
  "language_info": {
   "codemirror_mode": "java",
   "file_extension": ".jshell",
   "mimetype": "text/x-java-source",
   "name": "java",
   "pygments_lexer": "java",
   "version": "17.0.3+7"
  },
  "orig_nbformat": 4
 },
 "nbformat": 4,
 "nbformat_minor": 2
}
