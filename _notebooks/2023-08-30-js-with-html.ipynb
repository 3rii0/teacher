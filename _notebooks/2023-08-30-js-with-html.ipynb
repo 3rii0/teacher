{
 "cells": [
  {
   "cell_type": "markdown",
   "metadata": {},
   "source": [
    "---\n",
    "title: Using Javascript with HTML\n",
    "description: A Tech Talk on how javascript can interact with HTML\n",
    "courses: { csse: {week: 4} }\n",
    "categories: []\n",
    "type: ccc\n",
    "---"
   ]
  },
  {
   "cell_type": "markdown",
   "metadata": {},
   "source": [
    "# Following allong\n",
    "- Create a new markdown file in _posts (you will be able to put HTML in here)\n",
    "- You can try the concepts we are doing here on that post"
   ]
  },
  {
   "cell_type": "markdown",
   "metadata": {},
   "source": [
    "# Getting HTML elements in your javascript\n",
    "- To get an HTML element, use ``document.getElementById(\"the id here\")``\n",
    "- You will use the ID that you set in your HTML\n",
    "- if you `console.log` the resulting variable you will get some information about the element"
   ]
  },
  {
   "cell_type": "code",
   "execution_count": 10,
   "metadata": {},
   "outputs": [
    {
     "data": {
      "text/html": [
       "<!-- the ID must be specified on the element -->\n",
       "<h1 id=\"title1\">My Title</h1>\n",
       "\n",
       "<!-- our javascript goe here -->\n",
       "<script>\n",
       "var titleElement = document.getElementById(\"title1\")\n",
       "console.log(\"Example #1\")\n",
       "console.log(titleElement)\n",
       "</script>\n"
      ],
      "text/plain": [
       "<IPython.core.display.HTML object>"
      ]
     },
     "metadata": {},
     "output_type": "display_data"
    }
   ],
   "source": [
    "%%html\n",
    "<!-- the ID must be specified on the element -->\n",
    "<h1 id=\"title1\">My Title</h1>\n",
    "\n",
    "<!-- our javascript goe here -->\n",
    "<script>\n",
    "var titleElement = document.getElementById(\"title1\")\n",
    "console.log(\"Example #1\")\n",
    "console.log(titleElement)\n",
    "</script>"
   ]
  },
  {
   "cell_type": "markdown",
   "metadata": {},
   "source": [
    "# Basics of Objects\n",
    "- Our variable titleElement stores an \"object\"\n",
    "- Basically think of this as a group of data\n",
    "- To access a certain type of data from an \"object\" we use \".\" notation\n",
    "  - ie. To get the content of this titleElement, we would do titleElement.innerHTML"
   ]
  },
  {
   "cell_type": "code",
   "execution_count": 11,
   "metadata": {},
   "outputs": [
    {
     "data": {
      "text/html": [
       "<!-- the ID must be specified on the element -->\n",
       "<h1 id=\"title2\">My Title</h1>\n",
       "\n",
       "<!-- our javascript goe here -->\n",
       "<script>\n",
       "var titleElement = document.getElementById(\"title2\")\n",
       "console.log(\"Example #2\")\n",
       "console.log(titleElement.innerHTML)\n",
       "</script>\n"
      ],
      "text/plain": [
       "<IPython.core.display.HTML object>"
      ]
     },
     "metadata": {},
     "output_type": "display_data"
    }
   ],
   "source": [
    "%%html\n",
    "<!-- the ID must be specified on the element -->\n",
    "<h1 id=\"title2\">My Title</h1>\n",
    "\n",
    "<!-- our javascript goe here -->\n",
    "<script>\n",
    "var titleElement = document.getElementById(\"title2\")\n",
    "console.log(\"Example #2\")\n",
    "console.log(titleElement.innerHTML)\n",
    "</script>"
   ]
  },
  {
   "cell_type": "markdown",
   "metadata": {},
   "source": [
    "# Modifying the HTML\n",
    "- We can treat the data in this \"object\" (the html element) as a variable\n",
    "  - Therefore, we can change the value using the \"=\" (assignment) operator"
   ]
  },
  {
   "cell_type": "code",
   "execution_count": 14,
   "metadata": {},
   "outputs": [
    {
     "data": {
      "text/html": [
       "<!-- the ID must be specified on the element -->\n",
       "<h1 id=\"title3\">My Title</h1>\n",
       "\n",
       "<!-- our javascript goe here -->\n",
       "<script>\n",
       "var titleElement = document.getElementById(\"title3\")\n",
       "titleElement.innerHTML = \"A better title\"\n",
       "</script>\n"
      ],
      "text/plain": [
       "<IPython.core.display.HTML object>"
      ]
     },
     "metadata": {},
     "output_type": "display_data"
    }
   ],
   "source": [
    "%%html\n",
    "<!-- the ID must be specified on the element -->\n",
    "<h1 id=\"title3\">My Title</h1>\n",
    "\n",
    "<!-- our javascript goe here -->\n",
    "<script>\n",
    "var titleElement = document.getElementById(\"title3\")\n",
    "titleElement.innerHTML = \"A better title\"\n",
    "</script>"
   ]
  }
 ],
 "metadata": {
  "kernelspec": {
   "display_name": "Python 3",
   "language": "python",
   "name": "python3"
  },
  "language_info": {
   "codemirror_mode": {
    "name": "ipython",
    "version": 3
   },
   "file_extension": ".py",
   "mimetype": "text/x-python",
   "name": "python",
   "nbconvert_exporter": "python",
   "pygments_lexer": "ipython3",
   "version": "3.9.12"
  },
  "orig_nbformat": 4
 },
 "nbformat": 4,
 "nbformat_minor": 2
}
