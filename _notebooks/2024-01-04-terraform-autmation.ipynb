{
 "cells": [
  {
   "attachments": {},
   "cell_type": "markdown",
   "metadata": {},
   "source": [
    "---\n",
    "layout: post\n",
    "title: Terraform Automation Plan\n",
    "description: A plan to assist in creating AWS workspace creation using Terraform.  The purpose of this automation is to provide Student Desktops in the cloud.\n",
    "author: Aaron Anand, Aadit Gupta\n",
    "courses: { csp: {week: 20, categories: [6.B]}, csa: {week: 20} }\n",
    "categories: [C7.0, C7.1, C7.2]\n",
    "type: devops\n",
    "---"
   ]
  },
  {
   "attachments": {},
   "cell_type": "markdown",
   "metadata": {},
   "source": [
    "## Automation Planning\n",
    "`Cloud Computing`.  Traditionally, classroom have been service by on premise  desktops; costs can be high and machine aging is rapid. The purpose of this project is to build workspaces in the cloud. The students would use their District issued Chromebook to access these workspaces which could enable them in their Computer Science Pathway.   The numbers indicated that this could be much more affordable and aging/refresh cycles go away.  \n",
    "\n",
    "`Automating Cloud Setups`.  The following illustration assumes a `Terraform` recipe being pushed to each `AWS EC2`, the electric cloud computer is generated into a `Ubuntu Linux` workspace.   The names `kasm1.ncs.com, kasm2.ncs.com, ...` represent machines using `KASM workspaces`, a containerized desktop software provider.  Each workspace contains a `desktop environment` and `software tools` used in the Computer Science classroom.  \n",
    "\n",
    "\n",
    "Illustration of building KASM workspaces (kasm1 to kasmN)\n",
    "```\n",
    "            AWS EC2 Ubuntu Linux instances scaled (1 to N)\n",
    "            |-> kasm1.ncs.com - 5 student logins / 3 active sessions\n",
    "            |\n",
    "            |-> kasm2.ncs.com - 5 student logins / 3 active sessions\n",
    "Terraform-->|\n",
    " (recipe)   |-> kasm3.ncs.com - 5 student logins / 3 active sessions\n",
    "            |\n",
    "            |-> kasm4.ncs.com - 5 student logins / 3 active sessions\n",
    "            |\n",
    "            |-> kasmN.ncs.com - 5 student logins / 3 active sessions\n",
    "\n",
    "```\n",
    "`Recipe`.  The term `recipe` is used to describe all the elements needed to build the AWS EC2 Ubunto machines and KASM workspaces.  Terraform is the tool that drives the process.  A Terraform recipe, as in a cooking recipe, has many steps, intermediate processes, and outcomes.  These step, processes and outcomes are quite involved and compose most of the content in this document.\n",
    "\n",
    "`Scaling and Management`. To scale number of students using the workspaces, each machine can have up to `5 user logins` per instance, but according to resources would only adequetly serve `3 active sessions`.  There are many additional Terraform, AWS and/or KASM features to allocate resources, scale resources, and timeout inactive workspace sessions.  Additionally, `machines can be put to sleep`, for instance 11pm to 7am daily to save on cost;`woken up` based off of demand weekends and holidays.  In addition to the recipe to put the system in place, there are many additional process to manage usage and control costs.\n"
   ]
  },
  {
   "cell_type": "markdown",
   "metadata": {},
   "source": [
    "### Setup Requirements (Part 1 - System)\n",
    "`System`. These are features that get the KASM system running on AWS EC2 Ubuntu.    The specification have been captured by proof of concept analysis.\n",
    "\n",
    "#### AWS EC2 Instances\n",
    "Configuration\n",
    "- Region Oregon (us-west-2)\n",
    "- Instance t2.medium (2 x CPU, 4 Gib RAM)\n",
    "- Architecture x86\n",
    "- Use “kasm” key pair\n",
    "- Storage 60 Gib gp3 general purpose SD\n",
    "- Allow SSH, HTTP, HTTPS\n",
    "\n",
    "#### KASM single server install 1.13.1 \n",
    "scripting commands\n",
    "\n",
    "```bash\n",
    "# Reference: https://kasmweb.com/docs/latest/install/single_server_install.html\n",
    "cd /tmp\n",
    "curl -O https://kasm-static-content.s3.amazonaws.com/kasm_release_1.13.1.421524.tar.gz\n",
    "tar -xf kasm_release_1.13.1.421524.tar.gz\n",
    "\n",
    "# Automate prompts for EULA, Swap Partition,and Port\n",
    "sudo bash kasm_release/install.sh --accept-eula --swap-size 8192 -L 8443\n",
    "```"
   ]
  },
  {
   "cell_type": "markdown",
   "metadata": {},
   "source": [
    "### Setup Requirements (Part 2 - Networking)\n",
    "`Networking`.  The purpose of this step is to provide friendly internet access names to the students.  Additionally, we hope to enable as much setup and verification of these steps in Terraform and AWS CLI as possible."
   ]
  },
  {
   "cell_type": "markdown",
   "metadata": {},
   "source": [
    "#### AWS EC2 elastic IPs, permanent ips\n",
    "Each AWS EC2 Ubuntu KASM instance requires a Virtual Private Cloud VPC elastic IP address.  This will result in allocation of IP address that needs to be assigned to server.  \n",
    "- Region: Oregon (us-west-2)\n",
    "- Name: kasm1\n",
    "- Allocation ID: i-0ef40a9caee208041 (kasm1 ec2 instance ID)"
   ]
  },
  {
   "cell_type": "markdown",
   "metadata": {},
   "source": [
    "#### AWS Route 53, kasm DNS names to elastic IPs\n",
    "AWS Route 53 requires setup DNS subdomain for each KASM server elastic ip address.  This example shows description of keys and values used in Route 53.\n",
    "- Hosted Zone: nighthawkcodingsociety.com\n",
    "- Record Name: kasm1.nighthawkcodingsociety.com\t\n",
    "- Type: A\n",
    "- Routing Policy: Simple\n",
    "- Alias: No\n",
    "- Value/Route traffic to: 100.21.190.187\n",
    "- TTL (seconds): 60"
   ]
  },
  {
   "cell_type": "markdown",
   "metadata": {},
   "source": [
    "#### Nginx configuration to reverse proxy kasm DNS name to port\n",
    "Nginx needs to be configured to route kasm1.nighthawkcodingsociety.com request to port 8443.  FYI, port was setup with -L option during KASM install.\n",
    "\n",
    "Nginx needs to be install on EC2 instance.\n",
    "\n",
    "```bash\n",
    "sudo apt install nginx\n",
    "```\n",
    "\n",
    "Nginx configuration file, `kasm1` is created with content as shown, only difference in configuration per running host (kasm1, kasm2, ...) is the server_name subdomain.\n",
    "\n",
    "```json\n",
    "server {\n",
    "    server_name kasm1.nighthawkcodingsociety.com;\n",
    "    listen 80;\n",
    "\n",
    "    location / {\n",
    "         # The following configurations must be configured when proxying to Kasm Workspaces\n",
    "\n",
    "         # WebSocket Support\n",
    "         proxy_set_header        Upgrade $http_upgrade;\n",
    "         proxy_set_header        Connection \"upgrade\";\n",
    "\n",
    "         # Host and X headers\n",
    "         proxy_set_header        Host $host;\n",
    "         proxy_set_header        X-Real-IP $remote_addr;\n",
    "         proxy_set_header        X-Forwarded-For $proxy_add_x_forwarded_for;\n",
    "         proxy_set_header        X-Forwarded-Proto $scheme;\n",
    "\n",
    "         # Connectivity Options\n",
    "         proxy_http_version      1.1;\n",
    "         proxy_read_timeout      1800s;\n",
    "         proxy_send_timeout      1800s;\n",
    "         proxy_connect_timeout   1800s;\n",
    "         proxy_buffering         off;\n",
    "\n",
    "         # Allow large requests to support file uploads to sessions\n",
    "         client_max_body_size 10M;\n",
    "\n",
    "         # Endpoint of service\n",
    "         proxy_pass https://localhost:8443;\n",
    "    }\n",
    "}\n",
    "```\n",
    "\n",
    "Nginx configuration file is placed in /etc/nginx/sites-available and then is symbolically linked to /etc/nginx/sites-enabled.\n",
    "- nginx filename: `kasm1`\n",
    "- file path: `/etc/nginx/sites-available/`\n",
    "\n",
    "Activate kasm1 reverse proxy DNS request to Application Endpoint\n",
    "\n",
    "```bash\n",
    "rm -f /etc/nginx/sites-enabled/kasm1\n",
    "ln -s /etc/nginx/sites-available/kasm1 /etc/nginx/sites-enabled\n",
    "sudo systemctl restart nginx\n",
    "```"
   ]
  },
  {
   "cell_type": "markdown",
   "metadata": {},
   "source": [
    "\n",
    "#### Certbot certificates for DNS name to HTTPs\n",
    "Certbot providesfree certificates to application endpoints that serve their content over HTTPS\n",
    "\n",
    "Install Certbot\n",
    "```bash\n",
    "sudo snap install core; sudo snap refresh core\n",
    "sudo snap install --classic certbot\n",
    "sudo ln -s /snap/bin/certbot /usr/bin/certbot\n",
    "```\n",
    "\n",
    "Assign certificate to nginx hosts.\n",
    "\n",
    "```bash\n",
    "sudo certbot --nginx --non-interactive --agree-tos -m kasm1.nighthawkcodingsociety.com\n",
    "```"
   ]
  },
  {
   "cell_type": "markdown",
   "metadata": {},
   "source": [
    "### Setup Requirements (Part 3 - Workspaces)\n",
    "`Workspace`.  The purpose of this step is to configure KASM workspaces to meet the needs of CSSE, CSP, and CSA classes.  This includes all development tools. \n",
    "\n",
    "As KASM workspace is built by docker, common developer tools like `make` were found missing.   KASM workspaces do not support `sudo apt` at runtimes, so tools need to be comprehensive.\n",
    "\n",
    "Docker Workspace and Registry must match version requirements of system setup (1.13.1)\n",
    "- Docker workspace Video https://www.youtube.com/watch?v=BGP69_f1wq0\n",
    "- Registry video https://www.youtube.com/watch?v=Y6ggn9McIwI"
   ]
  },
  {
   "cell_type": "markdown",
   "metadata": {},
   "source": [
    "#### Tools Requirements\n",
    "This shell script is used to verfy and configure "
   ]
  },
  {
   "cell_type": "code",
   "execution_count": null,
   "metadata": {
    "vscode": {
     "languageId": "shellscript"
    }
   },
   "outputs": [],
   "source": [
    "#!/bin/bash\n",
    "\n",
    "# Function to check if a line exists in the .bashrc file\n",
    "line_exists_in_bashrc() {\n",
    "  grep -Fxq “$1\" ~/.bashrc\n",
    "}\n",
    "# Function to add lines to the .bashrc file if they don’t exist\n",
    "add_to_bashrc() {\n",
    "  if ! line_exists_in_bashrc “$1”; then\n",
    "    echo “$1\" >> ~/.bashrc\n",
    "  fi\n",
    "}\n",
    "# Function to install Visual Studio Code\n",
    "install_vscode() {\n",
    "  if ! command -v code &>/dev/null; then\n",
    "    echo “Installing Visual Studio Code...”\n",
    "    # Add VSCode repository and key\n",
    "    wget -qO- https://packages.microsoft.com/keys/microsoft.asc | gpg --dearmor > packages.microsoft.gpg\n",
    "    sudo mv packages.microsoft.gpg /etc/apt/trusted.gpg.d/microsoft.gpg\n",
    "    sudo sh -c ‘echo “deb [arch=amd64] https://packages.microsoft.com/repos/vscode stable main” > /etc/apt/sources.list.d/vscode.list’\n",
    "    # Update package index and install VSCode\n",
    "    sudo apt update\n",
    "    sudo apt install -y code\n",
    "    echo “Visual Studio Code installed successfully.”\n",
    "  else\n",
    "    echo “Visual Studio Code is already installed.”\n",
    "  fi\n",
    "}\n",
    "# Function to install ruby\n",
    "install_ruby() {\n",
    "# Check if ruby command is available\n",
    "  if ! command -v ruby &>/dev/null; then\n",
    "    echo “Installing Ruby...”\n",
    "    sudo apt update\n",
    "\tsudo apt-get install ruby-full build-essential zlib1g-dev\n",
    "  else\n",
    "    echo “Ruby is already installed.”\n",
    "  fi\n",
    "}\n",
    "# Function to install MiniConda and Build environment\n",
    "install_miniconda() {\n",
    "  if ! command -v conda &>/dev/null; then\n",
    "    echo “Installing MiniConda...”\n",
    "    # Download MiniConda installer\n",
    "    wget -q https://repo.anaconda.com/miniconda/Miniconda3-latest-Linux-x86_64.sh -O ~/miniconda.sh\n",
    "    # Install MiniConda\n",
    "    bash ~/miniconda.sh -b -p $HOME/miniconda\n",
    "    rm ~/miniconda.sh\n",
    "  else\n",
    "    echo “MiniConda is already installed.”\n",
    "  fi\n",
    "}\n",
    "# The environment_activate function effectively sets up the required environment configurations by adding lines to the .bashrc file only if they don’t already exist. This ensures that the modifications to the .bashrc file are performed only once and avoids duplication.\n",
    "environment_activate() {\n",
    "  add_to_bashrc `# local environment requirement`\n",
    "  add_to_bashrc ‘export PATH=“$HOME/miniconda/bin:$PATH”’\n",
    "  add_to_bashrc ‘export GEM_HOME=“$HOME/gems”’\n",
    "  add_to_bashrc ‘export PATH=“$HOME/gems/bin:$PATH”’\n",
    "  conda init bash\n",
    "  echo “Tools and environment setup. Please restart your terminal or run ‘source ~/.bashrc’ to activate it.”\n",
    "}\n",
    "# Main script\n",
    "install_vscode\n",
    "install_ruby\n",
    "install_miniconda\n",
    "environment_activate"
   ]
  },
  {
   "cell_type": "markdown",
   "metadata": {},
   "source": [
    "This Docker file is in KASM format with required head and tail sections, all customization must be done in between"
   ]
  },
  {
   "cell_type": "code",
   "execution_count": null,
   "metadata": {
    "vscode": {
     "languageId": "shellscript"
    }
   },
   "outputs": [],
   "source": [
    "\n",
    "FROM kasmweb/core-ubuntu-focal:1.13.1\n",
    "USER root\n",
    "ENV HOME /home/kasm-default-profile\n",
    "ENV STARTUPDIR /dockerstartup\n",
    "ENV INST_SCRIPTS $STARTUPDIR/install\n",
    "ENV CONDA_DIR /opt/conda\n",
    "ENV PATH $CONDA_DIR/bin:$PATH\n",
    "WORKDIR $HOME\n",
    "\n",
    "######### Customize Container Here ###########\n",
    "# Install Google Chrome\n",
    "COPY ./src/ubuntu/install/chrome $INST_SCRIPTS/chrome/\n",
    "RUN bash $INST_SCRIPTS/chrome/install_chrome.sh  && rm -rf $INST_SCRIPTS/chrome/\n",
    "# Install VSCode\n",
    "COPY ./src/ubuntu/install/vs_code $INST_SCRIPTS/vs_code/\n",
    "RUN bash $INST_SCRIPTS/vs_code/install_vs_code.sh  && rm -rf $INST_SCRIPTS/vs_code/\n",
    "# Install Anaconda\n",
    "RUN cd /tmp/ && wget https://repo.anaconda.com/archive/Anaconda3-2023.07-1-Linux-x86_64.sh \\\n",
    "    && bash Anaconda3-20*-Linux-x86_64.sh -b -p /opt/anaconda3 \\\n",
    "    && rm -r /tmp/Anaconda3-20*-Linux-x86_64.sh \\\n",
    "    && echo ‘source /opt/anaconda3/bin/activate’ >> /etc/bash.bashrc \\\n",
    "    && bash -c “source /opt/anaconda3/bin/activate \\\n",
    "        && conda update -n root conda  \\\n",
    "        && conda update --all \\\n",
    "        && conda clean --all” \\\n",
    "    && /opt/anaconda3/bin/conda config --set ssl_verify /etc/ssl/certs/ca-certificates.crt \\\n",
    "    && /opt/anaconda3/bin/conda install pip \\\n",
    "    && mkdir -p /home/kasm-user/.pip \\\n",
    "    && chown -R 1000:1000 /opt/anaconda3 /home/kasm-default-profile/.conda/ && conda install -y jupyter\n",
    "######### End Customizations ###########\n",
    "\n",
    "RUN chown 1000:0 $HOME\n",
    "RUN $STARTUPDIR/set_user_permission.sh $HOME\n",
    "ENV HOME /home/kasm-user\n",
    "WORKDIR $HOME\n",
    "RUN mkdir -p $HOME && chown -R 1000:0 $HOME\n",
    "USER 1000 (edi"
   ]
  },
  {
   "cell_type": "markdown",
   "metadata": {},
   "source": [
    "## Automation Tool Setup\n",
    "Tool installation and verification.  This is a preparation step prior to using Terraform. Below are commands to configure Amazon Web Service Command Line Interface `awscli`, verify configuration `sts`, and test the Simple Storage Service `s3` and `s3api`.\n",
    "- `Terraform` is a tool that lets you build, change, and version cloud resources safely and efficiently.\n",
    "- `AWS CLI` (Amazon Web Service Command Line Interface) is a tool to manage your AWS services.\n",
    "\n",
    "The step below are simple instruction to install, setup, and verify these automation tools on your desktop."
   ]
  },
  {
   "cell_type": "code",
   "execution_count": null,
   "metadata": {
    "vscode": {
     "languageId": "shellscript"
    }
   },
   "outputs": [],
   "source": [
    "# \n",
    "# Automation key tools\n",
    "$ brew install terraform\n",
    "$ brew install awscli  \n",
    "\n",
    "# Credentials setup (~/.aws/credentials)\n",
    "$ aws configure  # prompts with keys. user adds values values\n",
    "# Find User Access Keys in AWS IAM, answer as follows \n",
    "<<dialog #begin\n",
    "AWS Access Key ID [****************PQML]:\n",
    "AWS Secret Access Key [****************Smcy]:\n",
    "Default region name [us-west-2]:\n",
    "Default output format [json]:\n",
    "dialog #end\n",
    "\n",
    "# Credentials verification with Security Token Service (sts)\n",
    "$ aws sts get-caller-identity\n",
    "# Notice return of IAM user\n",
    "<<stsoutput #begin\n",
    "\n",
    "  UserId: ****************2B6D7\n",
    "  Account: ******879144,\n",
    "  Arn: arn:aws:iam::******879144:user/j***21\n",
    "\n",
    "stsoutput #ends\n",
    "\n",
    "# Verify access to view a service, using s3 - \n",
    "$ aws s3 ls\n",
    "# This is a list of s3 buckets, notice terra-auto directory\n",
    "<<s3output #begin\n",
    "2022-09-28 13:38:43 aws-cloudtrail-logs-542024879144-84383535\n",
    "2022-08-09 07:00:27 elasticbeanstalk-us-west-1-542024879144\n",
    "2023-05-25 12:47:32 loginzeen\n",
    "2022-05-19 01:52:48 prehistoric-pals\n",
    "2023-07-31 14:14:25 terra-auto\n",
    "s3output #ends\n",
    "\n",
    "# Verify and play with commands to write to a service, using s3api\n",
    "$ aws s3api list-objects --bucket terra-auto\n",
    "$ aws s3api put-object --bucket terra-auto --key myfile.py\n",
    "$ aws s3api list-objects --bucket terra-auto"
   ]
  }
 ],
 "metadata": {
  "kernelspec": {
   "display_name": "base",
   "language": "python",
   "name": "python3"
  },
  "language_info": {
   "codemirror_mode": {
    "name": "ipython",
    "version": 3
   },
   "file_extension": ".py",
   "mimetype": "text/x-python",
   "name": "python",
   "nbconvert_exporter": "python",
   "pygments_lexer": "ipython3",
   "version": "3.9.12"
  },
  "orig_nbformat": 4,
  "vscode": {
   "interpreter": {
    "hash": "8b82d5009c68ba5675978267e2b13a671f2a7143d61273c5a3813c97e0b2493d"
   }
  }
 },
 "nbformat": 4,
 "nbformat_minor": 2
}
