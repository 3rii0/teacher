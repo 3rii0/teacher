{
 "cells": [
  {
   "attachments": {},
   "cell_type": "markdown",
   "metadata": {},
   "source": [
    "---\n",
    "# this is YAML front matter\n",
    "layout: post\n",
    "title: Anatomy of Python Flask \n",
    "description: A discussion of key elements in a Python Flask backend project.  This includes preparing a project for deployment.\n",
    "courses: { csp: {week: 4, categories: [6.B]} }\n",
    "categories: [C4.0]\n",
    "type: devops\n",
    "---"
   ]
  },
  {
   "attachments": {},
   "cell_type": "markdown",
   "metadata": {},
   "source": [
    "## Overview of Flask\n",
    "This article overviews key considerations in setting up a Python Flask backend project."
   ]
  },
  {
   "attachments": {},
   "cell_type": "markdown",
   "metadata": {},
   "source": [
    "\n",
    "### Dockerfile and docker-compose.yml\n",
    "> Make sure your docker files are created using the templates below."
   ]
  },
  {
   "cell_type": "code",
   "execution_count": null,
   "metadata": {
    "vscode": {
     "languageId": "shellscript"
    }
   },
   "outputs": [],
   "source": [
    "FROM docker.io/python:3.10\n",
    "\n",
    "WORKDIR /\n",
    "\n",
    "# --- [Install python and pip] ---\n",
    "RUN apt-get update && apt-get upgrade -y && \\\n",
    "    apt-get install -y python3 python3-pip git\n",
    "COPY . /\n",
    "\n",
    "RUN pip install --no-cache-dir -r requirements.txt\n",
    "RUN pip install gunicorn\n",
    "\n",
    "ENV GUNICORN_CMD_ARGS=\"--workers=3 --bind=0.0.0.0:8080\"\n",
    "\n",
    "EXPOSE 8080\n",
    "\n",
    "CMD [ \"gunicorn\", \"main:app\" ]"
   ]
  },
  {
   "cell_type": "code",
   "execution_count": null,
   "metadata": {
    "vscode": {
     "languageId": "shellscript"
    }
   },
   "outputs": [],
   "source": [
    "version: '3'\n",
    "services:\n",
    "        web:\n",
    "                image: flask_port_v1 # Change the image name to something unique to your project, aka my_unique_name_v1\n",
    "                build: .\n",
    "                ports:\n",
    "                        - \"8---:8080\" # Edit the number on the left to match the port you selected\n",
    "                volumes:\n",
    "                        - ./volumes:/volumes\n",
    "                        - ./instance:/instance\n",
    "                restart: unless-stopped"
   ]
  }
 ],
 "metadata": {
  "kernelspec": {
   "display_name": "Java",
   "language": "java",
   "name": "java"
  },
  "language_info": {
   "codemirror_mode": "java",
   "file_extension": ".jshell",
   "mimetype": "text/x-java-source",
   "name": "java",
   "pygments_lexer": "java",
   "version": "17.0.3+7"
  },
  "orig_nbformat": 4
 },
 "nbformat": 4,
 "nbformat_minor": 2
}
