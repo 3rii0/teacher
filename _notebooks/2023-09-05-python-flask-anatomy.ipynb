{
 "cells": [
  {
   "attachments": {},
   "cell_type": "markdown",
   "metadata": {},
   "source": [
    "---\n",
    "# this is YAML front matter\n",
    "layout: post\n",
    "title: Anatomy of a Python Flask Web Application\n",
    "description: A discussion of key elements in a Python Flask backend project.  This includes preparing a project for deployment.\n",
    "courses: { csp: {week: 4, categories: [6.B]} }\n",
    "categories: [C4.0]\n",
    "type: devops\n",
    "---"
   ]
  },
  {
   "attachments": {},
   "cell_type": "markdown",
   "metadata": {},
   "source": [
    "## Overview of Flask\n",
    "This article overviews key considerations in setting up a Python Flask backend project."
   ]
  },
  {
   "attachments": {},
   "cell_type": "markdown",
   "metadata": {},
   "source": [
    "## Overview of Python files to support a Flask server\n",
    "> Discuss how to develop a home page, code, run local server test, and then sync to deploy to GitHub Pages.\n",
    "- Review tools setup and make in README.md to support this lesson.  "
   ]
  },
  {
   "attachments": {},
   "cell_type": "markdown",
   "metadata": {},
   "source": [
    "## Files and Directories in this Project\n",
    "> These are some of the key files and directories in this project\n",
    "- ```README.md``` file contains instruction to setup tools and clone the project.  A README is a standard for all properly setup GitHub project.\n",
    "- ```requirements.txt``` file contains the dependencies required to make this Python project into a Flask/Python project.  Additionally, other backend requirements are contained within ths file, for example dependencies for making a database.\n",
    "- ```main.py``` is a Python source file to run the project.  This file starts a Flask web server locally, on localhost.  This is the file you start during development to run, test, and debug the project.\n",
    "- ```Dockerfile``` and ```docker-compose.yml``` are the official files to run and test the project.  These files run the project in the same manner as when it is deployed on a server.  By running this file you check to see if your tools and dependencies will work on another machine, ie AWS EC2 server.\n",
    "- ```instances``` this is the standard location for putting data files that you want to remain on server.  For instance, SQLite database files are stored in this directory.\n",
    "- ```static``` directory is the standard location for files that you want to have cached by the web server.  For instance image files (jpeg, png, ...) or js files that remain constant during execution of the web server.\n",
    "- ```api``` is the directory that contains code to receive and respond to a request from an external server.  This is the interface from the external world into logic and code in the remainder of this project.\n",
    "- ```model``` these are the files that contain backend implementation for many of the files in the api directory.  For instance, there are files in model which directly interact with the database.\n",
    "- ```templates``` these are files and directories that are used to support home and error pages for this web site.   \n",
    "- ```.gitignore``` this file excludes elements from version controls.  We exclde files when they are built, they are NOT original source but derived.  You will see some files as dim in the VSCode Explorer, these files are purposely excluded from version control by rules in .gitignore.\n",
    "\n",
    "* Note, there are many other key files and directories.  But, those files will be highlighted as we progress in development."
   ]
  },
  {
   "attachments": {},
   "cell_type": "markdown",
   "metadata": {},
   "source": [
    "\n",
    "### Dockerfile and docker-compose.yml\n",
    "> Make sure your docker files are created using these examples.  These files are the best way to determine if your web application is ready for deployment.\n",
    "\n",
    "Examining and understanding these files will help you understand a great deal about your project.\n",
    "\n",
    "- Dockerfile \n",
    "    - python 3.10 environment is used as or deployment container\n",
    "    - python3-pip is installed, as pip is the package manager\n",
    "    - requirement.txt is used to update project dependencies in the container\n",
    "    - gunicorn is used to run a production version of python/flask, in this configuration 3 workers or 3 instances of the server are run.  This balances load.\n",
    "    - main:app means the main.py is the primary file and app contains server configuration\n",
    "    \n",
    "- docker-compose.yml\n",
    "    - image name the docker container\n",
    "    - port declares address for web application on web server\n",
    "    - volumes declares that the instance directory contains persistant data\n",
    "    - restart tells web applciation to come back up if something like power outage or reboot takes down web server\n"
   ]
  },
  {
   "cell_type": "code",
   "execution_count": null,
   "metadata": {
    "vscode": {
     "languageId": "shellscript"
    }
   },
   "outputs": [],
   "source": [
    "FROM docker.io/python:3.10\n",
    "\n",
    "WORKDIR /\n",
    "\n",
    "# --- [Install python and pip] ---\n",
    "RUN apt-get update && apt-get upgrade -y && \\\n",
    "    apt-get install -y python3 python3-pip git\n",
    "COPY . /\n",
    "\n",
    "RUN pip install --no-cache-dir -r requirements.txt\n",
    "RUN pip install gunicorn\n",
    "\n",
    "ENV GUNICORN_CMD_ARGS=\"--workers=3 --bind=0.0.0.0:8080\"\n",
    "\n",
    "EXPOSE 8080\n",
    "\n",
    "CMD [ \"gunicorn\", \"main:app\" ]"
   ]
  },
  {
   "cell_type": "code",
   "execution_count": null,
   "metadata": {
    "vscode": {
     "languageId": "shellscript"
    }
   },
   "outputs": [],
   "source": [
    "version: '3'\n",
    "services:\n",
    "        web:\n",
    "                image: flask_port_v1 # Change the image name to something unique to your project, aka my_unique_name_v1\n",
    "                build: .\n",
    "                ports:\n",
    "                        - \"8---:8080\" # Edit the number on the left to match the port you selected\n",
    "                volumes:\n",
    "                        - ./volumes:/volumes\n",
    "                        - ./instance:/instance\n",
    "                restart: unless-stopped"
   ]
  }
 ],
 "metadata": {
  "kernelspec": {
   "display_name": "Java",
   "language": "java",
   "name": "java"
  },
  "language_info": {
   "codemirror_mode": "java",
   "file_extension": ".jshell",
   "mimetype": "text/x-java-source",
   "name": "java",
   "pygments_lexer": "java",
   "version": "17.0.3+7"
  },
  "orig_nbformat": 4
 },
 "nbformat": 4,
 "nbformat_minor": 2
}
