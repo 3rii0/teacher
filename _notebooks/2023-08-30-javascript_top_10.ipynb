{
 "cells": [
  {
   "attachments": {},
   "cell_type": "markdown",
   "metadata": {},
   "source": [
    "---\n",
    "layout: post\n",
    "title: Build a Project\n",
    "description: Continue learning the Development work flow for GitHub Pages index.md and _posts.  Now is the time to build you first project.\n",
    "toc: true\n",
    "comments: true\n",
    "categories: [C1.3]\n",
    "courses: { csse: {week: 2}, csp: {week: 0, categories: [1.A]}, csa: {week: 0} }\n",
    "type: ccc\n",
    "---"
   ]
  },
  {
   "attachments": {},
   "cell_type": "markdown",
   "metadata": {},
   "source": [
    "## Overview\n",
    "What do beginning developers like to Create?  Everyones says the best way to learn a language is to build something. What would do beginning developers like to build? \n",
    "- [Geeks for Geeks Research Ideas](https://www.geeksforgeeks.org/top-10-projects-for-beginners-to-practice-html-and-css-skills/#)\n",
    "    - Talk to someone who rembers their 1st Web project.  What did the build?\n",
    "    - Ask someone what they need.   It is always best to be working on something that is useful.\n",
    "    - Think about your school year.  Computer Science is often thought about as a tool box.  How would you use the tools of Computer Science to help you become a better student this year? \n",
    "\n",
    "## Start a project \n",
    "This project is focused on helping high school students get started with GitHub Pages and web development. It encourages students to create new pages/projects and provides some guidance and ideas for starting points. The main focus is building a home page using Markdown and integrating other features like menus, images, and links.\n",
    "\n",
    "We have had previous lessons that established DevOps and other ideas in starting with GitHub Pages and have mentioned that index.html or index.md as the front page of your Website.  The teacher recommends using ```index.md``` as it has the most flexibility in working with GitHub Pages.  Here are some of the reasons...\n",
    "    - A `.md file` in GitHub pages allows definition of Markdown.\n",
    "    - Additionally, a .md file allow HTML, with the additions of CSS in `<style>` tags and JavaSciript in `<script>` tags.\n",
    "\n",
    "The remainder of this blog provides some review, some steps forward, and encourages you to find and idea to integrate into your GitHub pages project. Here are some links to assist in your journey...\n",
    "\n",
    "- [GitHub Pages Documentation](https://docs.github.com/en/pages): The official GitHub Pages documentation is a great resource for understanding the basics of setting up and using GitHub Pages. It covers topics like repository structure, custom domains, and more.\n",
    "\n",
    "- [Markdown Guide](https://www.markdownguide.org/basic-syntax/): Since Markdown is being used for the project's content, it's essential for students to understand Markdown syntax. The Markdown Guide - provides a comprehensive overview of Markdown formatting.\n",
    "Link: \n",
    "\n",
    "- [CSS Tutorial](https://www.w3schools.com/css/): If students want to add custom styles to their GitHub Pages, learning CSS is essential. W3Schools offers a beginner-friendly CSS tutorial.\n",
    "\n",
    "- [JavaScript MDN Web Docs](https://developer.mozilla.org/en-US/docs/Web/JavaScript/Guide): For students who wish to incorporate interactivity and dynamic elements into their projects, learning JavaScript is crucial. The Mozilla Developer Network (MDN) provides a comprehensive JavaScript guide.\n",
    "\n",
    " `"
   ]
  },
  {
   "attachments": {},
   "cell_type": "markdown",
   "metadata": {},
   "source": [
    "### Home Page\n",
    "Building a GitHub pages home page, then connecting the home page to  other pages is a common first step in building a project.  To start you will need to form your `index.md` in your project, which behind the scenes is generated into an `index.html` by the GitHub Pages build process.  Every page should have a `title`.  The `_layouts` directory in the classrooms starting project contains a `default.html`, this is the goto layout for each of our pages.  Here is frontmatter sample...\n",
    "\n",
    "```yml\n",
    "---\n",
    "layout: default\n",
    "title: My Title\n",
    "---\n",
    "```\n",
    "`\n"
   ]
  },
  {
   "attachments": {},
   "cell_type": "markdown",
   "metadata": {},
   "source": [
    "### Home Page Content, Menu, and Pictures\n",
    "Home Page usually is an information page describing and navigating into the project.  This of contains nice visuals and links to further content.  Review the `index.md` of the [teacher repository](https://github.com/nighthawkcoders/teacher/blob/main/index.md).  On this page, you will observe some information on the courses at Del Norte High School.  Also, on the link  you will see symbols like \"include nav_home.html\" and references that look like \"broken links\".  \n",
    "\n",
    "GitHub displays information in three forms.\n",
    "- GitHub Pages, [Fully rendered link](https://nighthawkcoders.github.io/teacher/).  This is the link we share with friends or community.\n",
    "- GitHub, [Partial rendered link](https://github.com/nighthawkcoders/teacher/blob/main/index.md).  This is the link developer typically discovers in a project, GitHub tried to present markdown in a pretty form by default.\n",
    "- GitHub raw, [Source link](https://raw.githubusercontent.com/nighthawkcoders/teacher/main/index.md).  The raw link is in the project, but requires a 2nd click after discovery in GitHub.  This contains the source the developer creates when building the pages.\n",
    "\n",
    "The \"include nav_home.html\" contains code that places a menu links within the index.md page.  This page forms a submenu.  Explore href as a fundmental requirement in understand HTML.  Each href contains permalink from another page and a title.  FYI, \"site.baseurl\" is the location of files in the website and is defined in _config.yml.\n",
    "\n",
    "```markdown\n",
    "<table>\n",
    "    <tr>\n",
    "        <td><img src=\"{{site.baseurl}}//images/logo.png\" height=\"60\" title=\"Frontend\" alt=\"\"></td>\n",
    "        <td><a href=\"{{site.baseurl}}/index\">Course</a></td>\n",
    "        <td><a href=\"{{site.baseurl}}/techtalk/home_style\">Style</a></td>\n",
    "        <td><a href=\"{{site.baseurl}}/frontend/home_table\">Table</a></td>\n",
    "        <td><a href=\"{{site.baseurl}}/frontend/home_motion\">Motion</a></td>\n",
    "        <td><a href=\"{{site.baseurl}}/frontend/home_about\">About</a></td>\n",
    "    </tr>\n",
    "</table>\n",
    "```\n",
    "\n",
    "The broken links we saw in the partially rendered contained HTML code that referenced an image. It was broken as GitHub Pages understands `site.basurl`, GitHub does not.  The code points to an image in the `/images/` directory.  Looking at line of code in the raw render in GitHub shows markdown syntax and reference to a `png file`.  Learn to navigate to this file in VSCode as described in the tools setup lesson.  Review markdown syntax and begin to add your own text and images to your home page.\n",
    "\n",
    "```markdown\n",
    "![csse]({{site.baseurl}}/images/ccr.png)\n",
    "```"
   ]
  },
  {
   "cell_type": "markdown",
   "metadata": {},
   "source": [
    "## Hacks\n",
    "Go forward with information provided in all the lessons up to now and try to complete a home page for a project and make a new .md file in _posts for one of the hacks describe below.  Connect the hack with the home page, index.md.  These items listed are considered prevalent on the internet.  In this Teachers opinion, this is more of finding and moving code into your project, not so much a development project.    This process is to finding code, learning the pieces, and then moving into your project is called integration.  If you are doing a lot of coding, you may be over working the coding part, focus more on the integration part!\n",
    "\n",
    "Overall, this project offers a good foundation for high school students to dive into web development using GitHub Pages. It provides guidance on creating a home page, integrating content and features, and suggests fun and engaging projects for students to explore. With the provided links and hacks, students should have plenty of resources and ideas to start building their own GitHub Pages projects."
   ]
  },
  {
   "attachments": {},
   "cell_type": "markdown",
   "metadata": {},
   "source": [
    "### Calculator\n",
    "Students can build a simple calculator using HTML, CSS, and JavaScript. This project will introduce them to basic user interface design and event handling in JavaScript.\n",
    "- Learn about STYLE and SCRIPT\n",
    "- Show how style usage is integrated into THEME\n",
    "\n",
    "* Many calculators are available on Internet and ChatGPT"
   ]
  },
  {
   "attachments": {},
   "cell_type": "markdown",
   "metadata": {},
   "source": [
    "### Build a Game\n",
    "Building a Tic Tac Toe game is an excellent project for students to explore more advanced JavaScript concepts, such as game logic, handling user interactions, and managing state.\n",
    "- Show data to store game logic\n",
    "\n",
    "* Many Tic Tac Toe games are available on Internet and ChatGPT"
   ]
  },
  {
   "attachments": {},
   "cell_type": "markdown",
   "metadata": {},
   "source": []
  }
 ],
 "metadata": {
  "language_info": {
   "name": "python"
  },
  "orig_nbformat": 4
 },
 "nbformat": 4,
 "nbformat_minor": 2
}
