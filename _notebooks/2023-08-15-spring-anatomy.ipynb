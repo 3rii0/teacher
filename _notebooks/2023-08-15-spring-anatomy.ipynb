{
 "cells": [
  {
   "attachments": {},
   "cell_type": "markdown",
   "metadata": {},
   "source": [
    "---\n",
    "# this is YAML front matter\n",
    "layout: post\n",
    "title: Anatomy of Java Spring \n",
    "description: A discussion of key elements in a Java Spring Project and preparing that project for deployment.\n",
    "courses: { csa: {week: 1, categories: [3.A]} }\n",
    "categories: [C4.0]\n",
    "type: devops\n",
    "---"
   ]
  },
  {
   "attachments": {},
   "cell_type": "markdown",
   "metadata": {},
   "source": [
    "## Spring Hellow\n",
    "This article overviews key considerations in setting up a Java Spring Backend project."
   ]
  },
  {
   "attachments": {},
   "cell_type": "markdown",
   "metadata": {},
   "source": [
    "\n",
    "### Dockerfile and docker-compose.yml\n",
    "> Make sure your docker files are created using the templates below."
   ]
  },
  {
   "cell_type": "code",
   "execution_count": null,
   "metadata": {
    "vscode": {
     "languageId": "shellscript"
    }
   },
   "outputs": [],
   "source": [
    "# Dockerfile\n",
    "FROM openjdk:18-alpine3.13\n",
    "WORKDIR /app\n",
    "RUN apk update && apk upgrade && \\\n",
    "    apk add --no-cache git \n",
    "COPY . /app\n",
    "RUN ./mvnw package\n",
    "CMD [\"java\", \"-jar\", \"target/spring-0.0.1-SNAPSHOT.jar\"]\n",
    "EXPOSE 8085"
   ]
  },
  {
   "cell_type": "code",
   "execution_count": null,
   "metadata": {
    "vscode": {
     "languageId": "shellscript"
    }
   },
   "outputs": [],
   "source": [
    "# docker-compose.yml\n",
    "version: '3'\n",
    "services:\n",
    "        web:\n",
    "                image: java_springv1 # Change the image name to something unique to your project, aka my_unique_name_v1\n",
    "                build: .\n",
    "                ports:\n",
    "                        - \"8---:8085\" # Edit the number on the left to match the port you selected \n",
    "                volumes:\n",
    "                        - ./volumes:/volumes\n",
    "                restart: unless-stopped"
   ]
  }
 ],
 "metadata": {
  "kernelspec": {
   "display_name": "Java",
   "language": "java",
   "name": "java"
  },
  "language_info": {
   "codemirror_mode": "java",
   "file_extension": ".jshell",
   "mimetype": "text/x-java-source",
   "name": "java",
   "pygments_lexer": "java",
   "version": "17.0.3+7"
  },
  "orig_nbformat": 4
 },
 "nbformat": 4,
 "nbformat_minor": 2
}
