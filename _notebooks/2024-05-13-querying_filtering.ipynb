{
 "cells": [
  {
   "attachments": {},
   "cell_type": "markdown",
   "metadata": {},
   "source": [
    "---\n",
    "layout: post\n",
    "title: Querying & Filtering Data\n",
    "description: These examples show basic querying and filtering techniques for datasets. \n",
    "courses: { csse: {week: 21}, csp: {week: 33}, csa: {week: 33} }\n",
    "categories: [C4.0]\n",
    "type: ccc\n",
    "---"
   ]
  }
 ],
 "metadata": {
  "language_info": {
   "name": "python"
  },
  "orig_nbformat": 4
 },
 "nbformat": 4,
 "nbformat_minor": 2
}
