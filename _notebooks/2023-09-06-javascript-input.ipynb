{
 "cells": [
  {
   "attachments": {},
   "cell_type": "markdown",
   "metadata": {},
   "source": [
    "---\n",
    "title: Javascript Input\n",
    "description: A Tech Talk on user inputs using Javascript. The grade calculator takes multiple values and does a calculation on them. User input can be useful for other projects, such as being used as a query.\n",
    "courses: { csse: {week: 4}, csp: {week: 1, categories: [3.A, 5.B]}, csa: {week: 0} }\n",
    "categories: [C3.0, C3.1, C4.1]\n",
    "type: ccc\n",
    "week: 10\n",
    "---"
   ]
  },
  {
   "attachments": {},
   "cell_type": "markdown",
   "metadata": {},
   "source": [
    "## HTML\n",
    "> Identify the HTML for a grade calculator;  it enables input and totals.\n",
    "\n",
    "- [DIV element](https://www.w3schools.com/tags/tag_div.asp) defines a division or a section in an HTML document. Used to divide headings, totals, and input in this example.\n",
    "- [SPAN element](https://www.w3schools.com/tags/tag_span.asp) defines a inline container within text. Used to capture different totals in this example.\n",
    "- [INPUT tag](https://www.w3schools.com/tags/tag_input.asp) specifies an input field where the user can enter data. Used to capture series of numbers in this example.\n",
    "- [ID attributes](https://www.w3schools.com/html/html_id.asp) are used by CSS for style and JavaScript for reference.  Used to update totals in this example.\n",
    "\n",
    "\n",
    "### Resources HTML\n",
    "- [HTML Tutorial](https://www.w3schools.com/html/)\n",
    "- [learn about id](https://www.washington.edu/accesscomputing/webd2/student/unit3/module5/lesson1.html)"
   ]
  },
  {
   "attachments": {},
   "cell_type": "markdown",
   "metadata": {},
   "source": [
    "## JavaScript newInputLine\n",
    "> Identify the function that generates a new input line after each score is entered.\n",
    "\n",
    "### Resources createElement\n",
    "- [Create Element](https://www.w3schools.com/jsref/met_document_createelement.asp)\n",
    "- [Set Attribute](https://www.w3schools.com/jsref/met_element_setattribute.asp)"
   ]
  },
  {
   "attachments": {},
   "cell_type": "markdown",
   "metadata": {},
   "source": [
    "## JavaScript calculator\n",
    "> Indentify the code below calculates the the total, count, and average of the user inputs.\n",
    "\n",
    "### Resources getElements\n",
    "- [Get Elements by ID](https://www.w3schools.com/jsref/met_document_getelementbyid.asp)\n",
    "- [Get Elements by Name](https://www.w3schools.com/jsref/met_doc_getelementsbyname.asp)\n"
   ]
  },
  {
   "attachments": {},
   "cell_type": "markdown",
   "metadata": {},
   "source": [
    "## HTML Magic runs Calculator\n",
    "> The code below runs in VSCode and on Jupyter Notebook. \n",
    "- [SCRIPT tag](https://www.w3schools.com/tags/tag_script.asp) is used to embed JavaScript inside of HTML"
   ]
  },
  {
   "cell_type": "code",
   "execution_count": 3,
   "metadata": {
    "vscode": {
     "languageId": "html"
    }
   },
   "outputs": [
    {
     "data": {
      "text/html": [
       "\n",
       "<!-- Heading -->\n",
       "<h1>Grade Calculator</h1>\n",
       "<h2>Input scores, press tab to add each new number.</h2>\n",
       "<!-- Totals -->\n",
       "<h3>\n",
       "    Total : <span id=\"total\">0.0</span>\n",
       "    Count : <span id=\"count\">0.0</span>\n",
       "    Average : <span id=\"average\">0.0</span>\n",
       "</h3>\n",
       "<!-- Rows -->\n",
       "<div id=\"scores\">\n",
       "    <!-- javascript generated inputs -->\n",
       "</div>\n",
       "\n",
       "<script>\n",
       "// Creates 1st input box on Window load\n",
       "newInputLine(0);\n",
       "\n",
       "// Creates new input box\n",
       "function newInputLine(index) {\n",
       "    // build an id for each new score\n",
       "    var id = \"score\" + index;\n",
       "\n",
       "    // Add a label for each score element\n",
       "    var title = document.createElement('label');\n",
       "    title.setAttribute('for', id);\n",
       "    title.innerHTML = index + \". \";    \n",
       "    document.getElementById(\"scores\").appendChild(title);\n",
       "\n",
       "    // Setup score element and attributes\n",
       "    var score = document.createElement(\"input\"); // input element\n",
       "    score.setAttribute('id', id);\n",
       "    score.setAttribute('onblur', \"calculator()\");\n",
       "    score.setAttribute('type', \"number\");\n",
       "    score.setAttribute('name', \"score\");\n",
       "    score.setAttribute('style', \"text-align: right; width: 5em\");\n",
       "\n",
       "    // Add score element to page\n",
       "    document.getElementById(\"scores\").appendChild(score);\n",
       "    // Create and add blank line after score\n",
       "    var br = document.createElement(\"br\");  // line break element\n",
       "    document.getElementById(\"scores\").appendChild(br);\n",
       "}\n",
       "\n",
       "// Calculates totals\n",
       "function calculator(){\n",
       "    var array = document.getElementsByName('score'); // setup array of scores\n",
       "    if (array[array.length-1].value.length != 0) {   // input cell has a value\n",
       "        // algorithm to calculate results\n",
       "        var total = 0;  // running total\n",
       "        for(var i = 0; i < array.length; i++){  // iterate through array\n",
       "            if(parseFloat(array[i].value))  // convert to float\n",
       "                total += parseFloat(array[i].value);  // add to running total\n",
       "        }\n",
       "        // update totals\n",
       "        document.getElementById('total').innerHTML = total.toFixed(2);\n",
       "        document.getElementById('count').innerHTML = array.length;\n",
       "        document.getElementById('average').innerHTML = (total / array.length).toFixed(2);\n",
       "        // make a new input line\n",
       "        newInputLine(array.length);\n",
       "        \n",
       "    }\n",
       "    // Set cursor focus on last element; this could be new or unchanged element\n",
       "    document.getElementById(\"score\" + (array.length-1)).focus();\n",
       "}\n",
       "</script>\n"
      ],
      "text/plain": [
       "<IPython.core.display.HTML object>"
      ]
     },
     "metadata": {},
     "output_type": "display_data"
    }
   ],
   "source": [
    "%%html\n",
    "\n",
    "<!-- Heading -->\n",
    "<h1>Grade Calculator</h1>\n",
    "<h2>Input scores, press tab to add each new number.</h2>\n",
    "<!-- Totals -->\n",
    "<h3>\n",
    "    Total : <span id=\"total\">0.0</span>\n",
    "    Count : <span id=\"count\">0.0</span>\n",
    "    Average : <span id=\"average\">0.0</span>\n",
    "</h3>\n",
    "<!-- Rows -->\n",
    "<div id=\"scores\">\n",
    "    <!-- javascript generated inputs -->\n",
    "</div>\n",
    "\n",
    "<script>\n",
    "// Creates 1st input box on Window load\n",
    "newInputLine(0);\n",
    "\n",
    "// Creates new input box\n",
    "function newInputLine(index) {\n",
    "    // id for each new score\n",
    "    var id = \"score\" + index;\n",
    "\n",
    "    // Add a label for each score element\n",
    "    var title = document.createElement('label');\n",
    "    title.setAttribute('for', id);\n",
    "    title.innerHTML = index + \". \";    \n",
    "    document.getElementById(\"scores\").appendChild(title);\n",
    "\n",
    "    // Setup score element and attributes\n",
    "    var score = document.createElement(\"input\"); // input element\n",
    "    score.setAttribute('id', id);\n",
    "    score.setAttribute('onblur', \"calculator()\");\n",
    "    score.setAttribute('type', \"number\");\n",
    "    score.setAttribute('name', \"score\");\n",
    "    score.setAttribute('style', \"text-align: right; width: 5em\");\n",
    "\n",
    "    // Add score element to page\n",
    "    document.getElementById(\"scores\").appendChild(score);\n",
    "    // Create and add blank line after score\n",
    "    var br = document.createElement(\"br\");  // line break element\n",
    "    document.getElementById(\"scores\").appendChild(br);\n",
    "}\n",
    "\n",
    "// Calculates totals\n",
    "function calculator(){\n",
    "    var array = document.getElementsByName('score'); // setup array of scores\n",
    "    if (array[array.length-1].value.length != 0) {   // input cell has a value\n",
    "        // algorithm to calculate results\n",
    "        var total = 0;  // running total\n",
    "        for(var i = 0; i < array.length; i++){  // iterate through array\n",
    "            if(parseFloat(array[i].value))  // convert to float\n",
    "                total += parseFloat(array[i].value);  // add to running total\n",
    "        }\n",
    "        // update totals\n",
    "        document.getElementById('total').innerHTML = total.toFixed(2);\n",
    "        document.getElementById('count').innerHTML = array.length;\n",
    "        document.getElementById('average').innerHTML = (total / array.length).toFixed(2);\n",
    "        // make a new input line\n",
    "        newInputLine(array.length);\n",
    "        \n",
    "    }\n",
    "    // Set cursor focus on last element; this could be new or unchanged element\n",
    "    document.getElementById(\"score\" + (array.length-1)).focus();\n",
    "}\n",
    "</script>\n"
   ]
  }
 ],
 "metadata": {
  "kernelspec": {
   "display_name": "Python 3.9.12 ('base')",
   "language": "python",
   "name": "python3"
  },
  "language_info": {
   "codemirror_mode": {
    "name": "ipython",
    "version": 3
   },
   "file_extension": ".py",
   "mimetype": "text/x-python",
   "name": "python",
   "nbconvert_exporter": "python",
   "pygments_lexer": "ipython3",
   "version": "3.9.12"
  },
  "orig_nbformat": 4,
  "vscode": {
   "interpreter": {
    "hash": "65f6bdf080211a4261ca30203f2967d5d410cd9d47d7b7e5694003092334a949"
   }
  }
 },
 "nbformat": 4,
 "nbformat_minor": 2
}
