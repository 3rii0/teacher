{
 "cells": [
  {
   "attachments": {},
   "cell_type": "markdown",
   "metadata": {},
   "source": [
    "---\n",
    "layout: post\n",
    "title: JavaScript HTML CSS\n",
    "description: Learn the Development work flow for Posts and Notebooks.\n",
    "toc: true\n",
    "comments: true\n",
    "categories: [C1.3]\n",
    "courses: { csse: {week: 3}, csp: {week: 0, categories: [1.A]}, csa: {week: 0} }\n",
    "type: ccc\n",
    "---"
   ]
  },
  {
   "attachments": {},
   "cell_type": "markdown",
   "metadata": {},
   "source": [
    "## What do beginners like to Create\n",
    "> Everyones says the best way to learn a language is to build something. What would you like to build?\n",
    "- [Research Ideas](https://www.geeksforgeeks.org/top-10-projects-for-beginners-to-practice-html-and-css-skills/#)\n",
    "- Talk to someone who rembers their 1st web project"
   ]
  },
  {
   "attachments": {},
   "cell_type": "markdown",
   "metadata": {},
   "source": [
    "### Sample 1\n",
    "> Building menus in GitHub pages\n",
    "- Discuss _layouts, _includes\n",
    "- Show off href "
   ]
  },
  {
   "attachments": {},
   "cell_type": "markdown",
   "metadata": {},
   "source": [
    "### Sample 2\n",
    "> Home Page, aka a pretty picture page\n",
    "- Discuss Markdown in index.md\n",
    "- Discuss HTML in index.md\n",
    "- Discuss how to reference and image file"
   ]
  },
  {
   "attachments": {},
   "cell_type": "markdown",
   "metadata": {},
   "source": [
    "### Sample 3\n",
    "> Show use of HTML, CSS, JavaScript in building a calculator.\n",
    "- Talk about tags STYLE and SCRIPT\n",
    "- Show style usage from Theme\n",
    "\n",
    "* Many calculators are available on Internet and ChatGPT"
   ]
  },
  {
   "attachments": {},
   "cell_type": "markdown",
   "metadata": {},
   "source": [
    "### Sample 4\n",
    "> Build a game, ie Tic Tac Toe\n",
    "- Show data to store game logic\n",
    "\n",
    "* Many Tic Tac Toe games are available on Internet and ChatGPT"
   ]
  },
  {
   "attachments": {},
   "cell_type": "markdown",
   "metadata": {},
   "source": []
  }
 ],
 "metadata": {
  "language_info": {
   "name": "python"
  },
  "orig_nbformat": 4
 },
 "nbformat": 4,
 "nbformat_minor": 2
}
