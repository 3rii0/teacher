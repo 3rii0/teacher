{
 "cells": [
  {
   "attachments": {},
   "cell_type": "markdown",
   "metadata": {},
   "source": [
    "---\n",
    "title: Project Overvew - Alien World\n",
    "description: The enirety of your frontend repository can capture the history of your project.\n",
    "courses: { csse: {week: 9}, csp: {week: 9}, csa: {week: 9} }\n",
    "type: collab\n",
    "---"
   ]
  },
  {
   "cell_type": "markdown",
   "metadata": {},
   "source": [
    "## Introduction\n",
    "There are many key parts to managing and finishing a project for others to use.\n",
    "\n",
    "1. README.md.   This contains information to help someone get started with project development.   The alienWorld project was built using GitHub pages, so much of the README contains general development guidelines.\n",
    "\n",
    "2. [Project Plan](https://jm1021.github.io/alienWorld/c4.1/2023/10/05/Plan_IPYNB_2_.html).  A project should contain a project plan/guide that has history of project and overviews the key elements of code.  \n"
   ]
  }
 ],
 "metadata": {
  "kernelspec": {
   "display_name": "base",
   "language": "python",
   "name": "python3"
  },
  "language_info": {
   "codemirror_mode": {
    "name": "ipython",
    "version": 3
   },
   "file_extension": ".py",
   "mimetype": "text/x-python",
   "name": "python",
   "nbconvert_exporter": "python",
   "pygments_lexer": "ipython3",
   "version": "3.9.12"
  },
  "orig_nbformat": 4
 },
 "nbformat": 4,
 "nbformat_minor": 2
}
