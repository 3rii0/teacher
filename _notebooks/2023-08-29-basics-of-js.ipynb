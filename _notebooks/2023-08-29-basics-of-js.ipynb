{
 "cells": [
  {
   "cell_type": "markdown",
   "metadata": {},
   "source": [
    "---\n",
    "title: Basics of Javascript\n",
    "description: A Tech Talk on how to use javascript\n",
    "courses: { csse: {week: 4} }\n",
    "categories: []\n",
    "type: ccc\n",
    "---"
   ]
  },
  {
   "cell_type": "markdown",
   "metadata": {},
   "source": [
    "# How to use javascript in any of your pages\n",
    "- Simply add a ``<script></script>`` in your markdown or html files, like so:\n",
    "- (Note: the %%html allows us to add HTML in a jupyter notebook, the outputted \"site\" will be shown below the code)"
   ]
  },
  {
   "cell_type": "code",
   "execution_count": 3,
   "metadata": {},
   "outputs": [
    {
     "data": {
      "text/html": [
       "<p>This is a page</p>\n",
       "<script>\n",
       "    console.log(\"our code is running!\");\n",
       "</script>\n"
      ],
      "text/plain": [
       "<IPython.core.display.HTML object>"
      ]
     },
     "metadata": {},
     "output_type": "display_data"
    }
   ],
   "source": [
    "%%html\n",
    "<p>This is a page</p>\n",
    "<script>\n",
    "    console.log(\"our code is running!\")\n",
    "</script>\n"
   ]
  },
  {
   "cell_type": "markdown",
   "metadata": {},
   "source": [
    "# Writing text (see above example)\n",
    "- `console.log` allows you to write text -- but you don't see any text above!\n",
    "- The text written with `console.log` appears in the console -- access this by right click -> inspect element (try it on this blog!)\n",
    "- This text must be wrapped in quotes (explained below)"
   ]
  },
  {
   "cell_type": "markdown",
   "metadata": {},
   "source": [
    "# Storing data\n",
    "- one of the most important things in programming is how data is stored\n",
    "- Think about what data you know: your name, age, whether today is a school day, etc.\n",
    "  - All of this data can be stored inside javascript\n"
   ]
  },
  {
   "cell_type": "markdown",
   "metadata": {},
   "source": [
    "# Types of data\n",
    "- Javascript has a few basic types of data, which align with what the types of data you might know yourself\n",
    "- For instance: your name = text, your age = a number, whether today is a school day = true/false\n",
    "- In javascript, these types are formalized as:\n",
    "  - text = \"string\", number = \"number\", true/false = \"boolean\""
   ]
  },
  {
   "cell_type": "markdown",
   "metadata": {},
   "source": [
    "# Labeling data\n",
    "- When you think of something you know, it has a name, and a value:\n",
    "  - For instance \"your age\" would be the name and 18 would be the value\n",
    "- In javascript this can represented with the following: `var someName = value;`\n",
    "  - The name cannot have spaces\n",
    "  - Text values must be wrapped in single or double quotes to identify it as text (see exmaples below)\n",
    "- Using the \"var\" syntax is called creating a `variable`"
   ]
  },
  {
   "cell_type": "code",
   "execution_count": 5,
   "metadata": {},
   "outputs": [
    {
     "data": {
      "text/html": [
       "<script>\n",
       "var firstName = \"Rohan\"\n",
       "var lastName = 'Juneja'\n",
       "var age = 17;\n",
       "var isSchoolDay = true; \n",
       "</script>\n"
      ],
      "text/plain": [
       "<IPython.core.display.HTML object>"
      ]
     },
     "metadata": {},
     "output_type": "display_data"
    }
   ],
   "source": [
    "%%html\n",
    "<script>\n",
    "var firstName = \"Rohan\"\n",
    "var lastName = 'Juneja'\n",
    "var age = 17;\n",
    "var isSchoolDay = true; \n",
    "</script>"
   ]
  },
  {
   "cell_type": "markdown",
   "metadata": {},
   "source": [
    "# Accessing data\n",
    "- To access data (the value of a variable), simply just use the name of the variable\n",
    "- For example, we can use the values from previously in a `console.log`"
   ]
  },
  {
   "cell_type": "code",
   "execution_count": 6,
   "metadata": {},
   "outputs": [
    {
     "data": {
      "text/html": [
       "<script>\n",
       "var firstName = \"Rohan\"\n",
       "var lastName = 'Juneja'\n",
       "var age = 17;\n",
       "var isSchoolDay = true; \n",
       "\n",
       "console.log(firstName)\n",
       "</script>\n"
      ],
      "text/plain": [
       "<IPython.core.display.HTML object>"
      ]
     },
     "metadata": {},
     "output_type": "display_data"
    }
   ],
   "source": [
    "%%html\n",
    "<script>\n",
    "var firstName = \"Rohan\"\n",
    "var lastName = 'Juneja'\n",
    "var age = 17;\n",
    "var isSchoolDay = true; \n",
    "\n",
    "// using the value of the variable\n",
    "console.log(firstName)\n",
    "</script>"
   ]
  },
  {
   "cell_type": "markdown",
   "metadata": {},
   "source": [
    "# Operators\n",
    "- \"+\" adds numbers together, or combines text together\n",
    "- \"-\" subtracts numbers, \"/\" divides numbers, \"*\" multiples numbers\n",
    "- \"===\" checks if two values are the same, if so it outputs `true`, otherwise `false`\n",
    "  - \"!==\" is \"not equal to\" (opposite of equal to)\n",
    "  - normal oeprators like \"<\", \">\", \">=\" (gerater than or equal to), \"<=\" with numbers"
   ]
  },
  {
   "cell_type": "code",
   "execution_count": 10,
   "metadata": {},
   "outputs": [
    {
     "data": {
      "text/html": [
       "<script>\n",
       "var name1 = \"Name\"\n",
       "var name2 = \"Name\"\n",
       "\n",
       "console.log(\"Operators\")\n",
       "console.log(\"Messing with names\")\n",
       "console.log(name1 == name2)\n",
       "console.log(name1 + name2)\n",
       "\n",
       "var age1 = 17\n",
       "var age2 = 16\n",
       "console.log(\"Age1 vs Age2 comparisons\")\n",
       "console.log(age1 == age2)\n",
       "console.log(age2 > age1)\n",
       "console.log(age2 < age1)\n",
       "\n",
       "var age3 = age1 * age2\n",
       "console.log(\"Two ages multipled\")\n",
       "console.log(age3)\n",
       "</script>\n"
      ],
      "text/plain": [
       "<IPython.core.display.HTML object>"
      ]
     },
     "metadata": {},
     "output_type": "display_data"
    }
   ],
   "source": [
    "%%html\n",
    "<script>\n",
    "var name1 = \"Name\"\n",
    "var name2 = \"Name\"\n",
    "\n",
    "console.log(\"Operators\")\n",
    "console.log(\"Messing with names\")\n",
    "console.log(name1 == name2)\n",
    "console.log(name1 + name2)\n",
    "\n",
    "var age1 = 17\n",
    "var age2 = 16\n",
    "console.log(\"Age1 vs Age2 comparisons\")\n",
    "console.log(age1 == age2)\n",
    "console.log(age2 > age1)\n",
    "console.log(age2 < age1)\n",
    "\n",
    "var age3 = age1 * age2\n",
    "console.log(\"Two ages multipled\")\n",
    "console.log(age3)\n",
    "</script>"
   ]
  },
  {
   "cell_type": "markdown",
   "metadata": {},
   "source": [
    " "
   ]
  }
 ],
 "metadata": {
  "kernelspec": {
   "display_name": "Python 3",
   "language": "python",
   "name": "python3"
  },
  "language_info": {
   "codemirror_mode": {
    "name": "ipython",
    "version": 3
   },
   "file_extension": ".py",
   "mimetype": "text/x-python",
   "name": "python",
   "nbconvert_exporter": "python",
   "pygments_lexer": "ipython3",
   "version": "3.9.12"
  },
  "orig_nbformat": 4
 },
 "nbformat": 4,
 "nbformat_minor": 2
}
