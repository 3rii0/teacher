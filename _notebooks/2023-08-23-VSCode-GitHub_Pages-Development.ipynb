{
 "cells": [
  {
   "attachments": {},
   "cell_type": "markdown",
   "metadata": {},
   "source": [
    "---\n",
    "layout: post\n",
    "title: VSCode/Github Pages build, test, debug\n",
    "description: Learn the Development work flow while updating your home page and theme.\n",
    "toc: true\n",
    "comments: true\n",
    "categories: [C5.0]\n",
    "courses: { csse: {week: 2}, csp: {week: 0, categories: [4.B, 5.B]}, csa: {week: 0} }\n",
    "type: devops\n",
    "---"
   ]
  },
  {
   "attachments": {},
   "cell_type": "markdown",
   "metadata": {},
   "source": [
    "## Overview of GitHub Pages files\n",
    "> Discuss how to develop a home page, code, run local server test, and then sync to deploy to GitHub Pages.\n",
    "- Review tools setup and make in README.md to support this lesson.  "
   ]
  },
  {
   "attachments": {},
   "cell_type": "markdown",
   "metadata": {},
   "source": [
    "## Files and Directories in this Project\n",
    "> Here are some defintion to key files and directories in this project\n",
    "- ```README.md``` instruction and background on this project.  This is a standard for all properly setup GitHub project.\n",
    "- ```index.md``` this is the source file for the home page of this project.  This is a standard for all GitHub Pages projects.  Note, md files are converted to html by Jekyll build process.  HTML files are the only type of file that is rendered on a Website.\n",
    "- ```_notebooks```  this is a folder that contains all of Jupyter Notebook (ipynb) files.  These files are converted to md files by the Makefile rules in the build process.  Then, the md files are converted to HTML by the Jekyll build process.  \n",
    "- ```_posts``` this is the folder that contains all the Markdown (md) file that will be part of the Website.  These files are formatted similarly to index.md with ```frontmatter``` (metadata coded in YAML) and markdown source (coded in Markdown, HTML, JavaScript, CSS).  Additionally, you will find Liquid Code in these files that is used to generated Markdown, HTML, JavaScript, CSS.\n",
    "- ```_data``` this is the standard location for putting data files that support _posts or _notebooks.\n",
    "- ```images``` this is the standard location for image file (jpeg, png, ...) that support _posts or _notebooks. \n",
    "- ```_config.yml``` this file contatins YAML definition (aka key/value properties) that are used to build the Jekyll Website.\n",
    "- ```.gitignore``` this file excludes elements from version controls.  We exclde files when they are built, the are NOT original source but derived.  You will see some files as dim in the VSCode Explorer, this files are purposely exclude by rules in .gitignore.\n",
    "\n",
    "* Note, there are many other key files and directories.  But, those files will be highlighted as we progress in development."
   ]
  },
  {
   "attachments": {},
   "cell_type": "markdown",
   "metadata": {},
   "source": [
    "## Changing the Theme\n",
    "> Google \"github pages themes\"  or this [theme link](https://pages.github.com/themes/).   The purpose of this section is to help you change your Theme options.\n",
    "- ```_config.yml``` contains commented out alternatives to themes (see '# theme requirements' cell below).  Try these themes by commenting out midnight them with # at front and remove comment # from the front of theme of choice.  After changing theme you will need to do a `make clean`  followed by a `make` to test.\n",
    "` ```_includes/head.thml``` this file contains code to ensure page loads the proper JavaScript.  This is a partial effort at support.  You will need to follow README.md instruction of theme provider to finish convertion."
   ]
  },
  {
   "cell_type": "code",
   "execution_count": null,
   "metadata": {
    "vscode": {
     "languageId": "ruby"
    }
   },
   "outputs": [],
   "source": [
    "# theme requirements\n",
    "remote_theme: pages-themes/midnight@v0.2.0\n",
    "# remote_theme: pages-themes/dinky@v0.2.0\n",
    "# remote_theme: pages-themes/minimal@v0.2.0\n",
    "# remote_theme: pages-themes/hacker@v0.2.0\n",
    "# remote_theme: pages-themes/cayman@v0.2.0\n",
    "# remote_theme: pages-themes/time-machine@v0.2.0\n",
    "plugins:\n",
    "- jekyll-remote-theme"
   ]
  },
  {
   "cell_type": "code",
   "execution_count": null,
   "metadata": {
    "vscode": {
     "languageId": "xml"
    }
   },
   "outputs": [],
   "source": [
    "\n",
    "{% if site.remote_theme contains 'midnight' %}\n",
    "  <script src=\"{{ '/assets/js/respond.js' | relative_url }}\"></script>\n",
    "{% elsif site.remote_theme contains 'dinky' %}\n",
    "  <script src=\"{{ '/assets/js/scale.fix.js' | relative_url }}\"></script>\n",
    "{% elsif site.remote_theme contains 'time-machine' %}\n",
    "  <script src=\"{{ '/assets/js/script.js' | relative_url }}\"></script>\n",
    "{% elsif site.remote_theme contains 'cayman' %}\n",
    "  <link rel=\"preconnect\" href=\"https://fonts.gstatic.com\">\n",
    "  <link rel=\"preload\" href=\"https://fonts.googleapis.com/css?family=Open+Sans:400,700&display=swap\" as=\"style\" type=\"text/css\" crossorigin>\n",
    "  <meta name=\"theme-color\" content=\"#157878\">\n",
    "  <meta name=\"apple-mobile-web-app-status-bar-style\" content=\"black-translucent\">\n",
    "{% endif %}"
   ]
  },
  {
   "attachments": {},
   "cell_type": "markdown",
   "metadata": {},
   "source": [
    "## Hacks\n",
    "> Perform customization to your 'student'.  This is an opportunity to learn a few concepts from 'teacher' repository and then customize your own page to your course needs and personal interests.  \n",
    "\n",
    "Observe the Submenu on the teacher project home page.\n",
    "\n",
    "- Course.  This is course overview.  It is made from markdown and references images from the `image` foler.\n",
    "- Style.  This page how to Style, while understanding inherited styling from Theme.\n",
    "- Background.  This page contains JavaScript background description overlay.\n",
    "- Table.  This page shows how to obtain data from outside source and forming a table.\n",
    "- About.  This is about the Creator."
   ]
  },
  {
   "attachments": {},
   "cell_type": "markdown",
   "metadata": {},
   "source": [
    "### Style Hack\n",
    "> The Style submenu is using a Calculator as an example.\n",
    "- ```/assets/css/style.css``` contains style customization per rules defined by GitHub Pages themse.  Read the description on how Stye customization are handled by [midnight](https://github.com/pages-themes/midnight#readme) in the README.md\n",
    "- ```/_posts/<date>Example-calculator.md``` contains code for calendar.  Only the output is generating completely custom style.   All the remainder of HTML classes are defined in the style.css, as they all use inheritance properties from the theme."
   ]
  }
 ],
 "metadata": {
  "language_info": {
   "name": "python"
  },
  "orig_nbformat": 4
 },
 "nbformat": 4,
 "nbformat_minor": 2
}
