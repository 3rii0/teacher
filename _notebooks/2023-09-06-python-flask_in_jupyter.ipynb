{
 "cells": [
  {
   "attachments": {},
   "cell_type": "markdown",
   "metadata": {},
   "source": [
    "---\n",
    "toc: true\n",
    "comments: false\n",
    "layout: post\n",
    "title: Python/Flask in Jupyter\n",
    "description: Quick launch into Flask, Functions, List, API, and HTML.\n",
    "courses: { csp: {week: 4, categories: [1.A, 3.B]} }\n",
    "categories: [C4.0]\n",
    "type: devops\n",
    "---"
   ]
  },
  {
   "attachments": {},
   "cell_type": "markdown",
   "metadata": {},
   "source": [
    "### Create a somewhat minimal Flask Server\n",
    "\n",
    "- Run Python Flask Backend\n",
    "- Build an API /api/data page for InfoDb data\n",
    "- Build an HTML / page with Hello message"
   ]
  },
  {
   "cell_type": "code",
   "execution_count": 1,
   "metadata": {},
   "outputs": [
    {
     "name": "stdout",
     "output_type": "stream",
     "text": [
      " * Serving Flask app '__main__'\n",
      " * Debug mode: off\n"
     ]
    },
    {
     "name": "stderr",
     "output_type": "stream",
     "text": [
      "WARNING: This is a development server. Do not use it in a production deployment. Use a production WSGI server instead.\n",
      " * Running on http://127.0.0.1:5000\n",
      "Press CTRL+C to quit\n"
     ]
    }
   ],
   "source": [
    "from flask import Flask, jsonify\n",
    "from flask_cors import CORS\n",
    "\n",
    "# initialize a flask application (app)\n",
    "app = Flask(__name__)\n",
    "CORS(app)\n",
    "\n",
    "# add an api endpoint to flask app\n",
    "@app.route('/api/data')\n",
    "def get_data():\n",
    "    # start a list, to be used like a information database\n",
    "    InfoDb = []\n",
    "\n",
    "    # add a row to list, an Info record\n",
    "    InfoDb.append({\n",
    "        \"FirstName\": \"John\",\n",
    "        \"LastName\": \"Mortensen\",\n",
    "        \"DOB\": \"October 21\",\n",
    "        \"Residence\": \"San Diego\",\n",
    "        \"Email\": \"jmortensen@powayusd.com\",\n",
    "        \"Owns_Cars\": [\"2015-Fusion\", \"2011-Ranger\", \"2003-Excursion\", \"1997-F350\", \"1969-Cadillac\"]\n",
    "    })\n",
    "\n",
    "    # add a row to list, an Info record\n",
    "    InfoDb.append({\n",
    "        \"FirstName\": \"Mr.\",\n",
    "        \"LastName\": \"Lopez\",\n",
    "        \"DOB\": \"January 1\",\n",
    "        \"Residence\": \"San Diego\",\n",
    "        \"Email\": \"slopez@powayusd.com\",\n",
    "        \"Owns_Cars\": [\"2023-Canoo\"]\n",
    "    })\n",
    "    \n",
    "    return jsonify(InfoDb)\n",
    "\n",
    "# add an HTML endpoint to flask app\n",
    "@app.route('/')\n",
    "def say_hello():\n",
    "    hello = \"<html>\"\n",
    "    hello += \"<head>\"\n",
    "    hello += \"<title>Hello</title>\"\n",
    "    hello += \"</head>\"\n",
    "    hello += \"<body>\"\n",
    "    hello += \"<h2>Hello, World!</h2>\"\n",
    "    hello +=  \"</body>\"\n",
    "    hello +=  \"</html>\"\n",
    "    return hello\n",
    "\n",
    "if __name__ == '__main__':\n",
    "    # start flask server on default port, :5000\n",
    "    app.run()\n",
    "    # after run, a flask processs is running, click http link for server"
   ]
  },
  {
   "cell_type": "markdown",
   "metadata": {},
   "source": [
    "### Show Python/Flask process\n",
    "This script discovers the running flask process"
   ]
  },
  {
   "cell_type": "code",
   "execution_count": 2,
   "metadata": {
    "vscode": {
     "languageId": "bat"
    }
   },
   "outputs": [
    {
     "name": "stdout",
     "output_type": "stream",
     "text": [
      "COMMAND     PID          USER   FD   TYPE             DEVICE SIZE/OFF NODE NAME\n",
      "ControlCe   569 johnmortensen    7u  IPv4 0x9d3ea86e591b85b9      0t0  TCP *:commplex-main (LISTEN)\n",
      "ControlCe   569 johnmortensen    8u  IPv6 0x9d3ea86e5a10dff1      0t0  TCP *:commplex-main (LISTEN)\n",
      "Python    44134 johnmortensen   72u  IPv4 0x9d3ea86e55fbc5b9      0t0  TCP localhost:commplex-main (LISTEN)\n",
      "\n",
      "Python PID only\n",
      "44134\n"
     ]
    }
   ],
   "source": [
    "%%script bash\n",
    "\n",
    "# After app.run(), see the the Python process\n",
    "lsof -i :5000\n",
    "\n",
    "echo \"\"; echo \"Python PID only\"\n",
    "# Filter only Python process on port :5000\n",
    "lsof -i :5000 | awk '/Python/ {print $2}'"
   ]
  },
  {
   "cell_type": "markdown",
   "metadata": {},
   "source": [
    "### Kill Python/Flask process\n",
    "This script ends Python/Flask process"
   ]
  },
  {
   "cell_type": "code",
   "execution_count": 3,
   "metadata": {
    "vscode": {
     "languageId": "bat"
    }
   },
   "outputs": [
    {
     "ename": "",
     "evalue": "",
     "output_type": "error",
     "traceback": [
      "\u001b[1;31mCannot execute code, session has been disposed. Please try restarting the Kernel."
     ]
    },
    {
     "ename": "",
     "evalue": "",
     "output_type": "error",
     "traceback": [
      "\u001b[1;31mThe Kernel crashed while executing code in the the current cell or a previous cell. Please review the code in the cell(s) to identify a possible cause of the failure. Click <a href='https://aka.ms/vscodeJupyterKernelCrash'>here</a> for more info. View Jupyter <a href='command:jupyter.viewOutput'>log</a> for further details."
     ]
    }
   ],
   "source": [
    "%%script bash\n",
    "\n",
    "# Kill the PID, after you must \"Restart\"\n",
    "lsof -i :5000 | awk '/Python/ {print $2}' | xargs kill -9"
   ]
  }
 ],
 "metadata": {
  "kernelspec": {
   "display_name": "Python 3",
   "language": "python",
   "name": "python3"
  },
  "language_info": {
   "codemirror_mode": {
    "name": "ipython",
    "version": 3
   },
   "file_extension": ".py",
   "mimetype": "text/x-python",
   "name": "python",
   "nbconvert_exporter": "python",
   "pygments_lexer": "ipython3",
   "version": "3.11.4"
  },
  "orig_nbformat": 4
 },
 "nbformat": 4,
 "nbformat_minor": 2
}
